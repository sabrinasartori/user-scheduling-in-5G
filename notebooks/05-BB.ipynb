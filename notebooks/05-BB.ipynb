{
 "cells": [
  {
   "cell_type": "code",
   "execution_count": 1,
   "metadata": {},
   "outputs": [],
   "source": [
    "%load_ext autoreload\n",
    "%autoreload 2"
   ]
  },
  {
   "cell_type": "code",
   "execution_count": 2,
   "metadata": {},
   "outputs": [
    {
     "name": "stderr",
     "output_type": "stream",
     "text": [
      "/tmp/ipykernel_428354/804485343.py:1: DeprecationWarning: \n",
      "Pyarrow will become a required dependency of pandas in the next major release of pandas (pandas 3.0),\n",
      "(to allow more performant data types, such as the Arrow string type, and better interoperability with other libraries)\n",
      "but was not found to be installed on your system.\n",
      "If this would cause problems for you,\n",
      "please provide us feedback at https://github.com/pandas-dev/pandas/issues/54466\n",
      "        \n",
      "  import pandas as pd\n"
     ]
    }
   ],
   "source": [
    "import pandas as pd\n",
    "import matplotlib.pyplot as plt\n",
    "import numpy as np\n",
    "import os\n",
    "from pulp import *\n",
    "from copy import deepcopy\n",
    "while \"notebooks\" in os.getcwd():\n",
    "    os.chdir(\"..\")\n",
    "\n",
    "from src.preprocessing.parser import Parser\n",
    "from src.preprocessing.preprocessor import Preprocessor\n",
    "from src.solvers.solution import Solution\n",
    "from src.solvers.pulp_solver import PuLPSolver\n",
    "\n",
    "from tqdm import tqdm\n",
    "from typing import Dict"
   ]
  },
  {
   "cell_type": "code",
   "execution_count": 170,
   "metadata": {},
   "outputs": [],
   "source": [
    "parser = Parser(\"data/testfiles/test3.txt\")"
   ]
  },
  {
   "cell_type": "code",
   "execution_count": 171,
   "metadata": {},
   "outputs": [
    {
     "name": "stderr",
     "output_type": "stream",
     "text": [
      "28it [00:00, 137840.98it/s]\n"
     ]
    }
   ],
   "source": [
    "\n",
    "info = parser.read()"
   ]
  },
  {
   "cell_type": "code",
   "execution_count": 172,
   "metadata": {},
   "outputs": [],
   "source": [
    "dataset : Dict[int, pd.DataFrame ]= info['data']\n",
    "p, K, M, N = info['p'], info['K'], info['M'], info['N']"
   ]
  },
  {
   "cell_type": "code",
   "execution_count": 173,
   "metadata": {},
   "outputs": [
    {
     "name": "stderr",
     "output_type": "stream",
     "text": [
      "100%|██████████| 4/4 [00:00<00:00, 6864.65it/s]\n",
      "100%|██████████| 4/4 [00:00<00:00, 500.65it/s]\n",
      "100%|██████████| 4/4 [00:00<00:00, 1786.90it/s]\n"
     ]
    }
   ],
   "source": [
    "preprocessor = Preprocessor(\n",
    "    K, \n",
    "    M,\n",
    "    N,\n",
    "    p,\n",
    "    dataset\n",
    ")\n",
    "\n",
    "data_1 = preprocessor.remove_trivial_values()\n",
    "data_2 = preprocessor.remove_ip_dominated(dataset)\n",
    "data_3 = preprocessor.remove_lp_dominated(data_2)"
   ]
  },
  {
   "cell_type": "code",
   "execution_count": 174,
   "metadata": {},
   "outputs": [],
   "source": [
    "def is_integer_solution(solution : LpProblem):\n",
    "    for var in solution.variables():\n",
    "        v = var.value()\n",
    "        if int(v) != v:\n",
    "            return False\n",
    "        \n",
    "    return True"
   ]
  },
  {
   "cell_type": "code",
   "execution_count": 175,
   "metadata": {},
   "outputs": [],
   "source": [
    "s = PuLPSolver(\n",
    "    K,\n",
    "    M,\n",
    "    N,\n",
    "    p,\n",
    "    data_3\n",
    ")"
   ]
  },
  {
   "cell_type": "code",
   "execution_count": 179,
   "metadata": {},
   "outputs": [],
   "source": [
    "best_solution = Solution(\n",
    "    K,\n",
    "    M,\n",
    "    N,\n",
    "    p\n",
    ")\n",
    "best_rate = 0\n",
    "\n",
    "def BB(\n",
    "    solver : PuLPSolver, \n",
    "    n0, \n",
    "    remaining_power_budget, \n",
    "    data : Dict[int, pd.DataFrame]\n",
    "):\n",
    "    global best_solution\n",
    "    global best_rate\n",
    "    \n",
    "    solver.solve()\n",
    "\n",
    "    if n0 == N-1:\n",
    "        data_rate =solver.solution.objective.value()\n",
    "        if data_rate > best_rate:\n",
    "            best_rate = data_rate\n",
    "\n",
    "        return\n",
    "    \n",
    "    if solver.solution.status != 1:\n",
    "        return\n",
    "    \n",
    "    data_rate =solver.solution.objective.value()\n",
    "    if is_integer_solution(solver.solution):\n",
    "        if data_rate > best_rate:\n",
    "            best_rate = data_rate\n",
    "\n",
    "        return\n",
    "    \n",
    "    if data_rate < best_rate + 1:\n",
    "        return\n",
    "\n",
    "    for idx, row in data[n0].iterrows():\n",
    "\n",
    "\n",
    "        k = row['k']\n",
    "        m = row['m']\n",
    "        p_kmn = row['p_k,m,n']\n",
    "\n",
    "        x_kmn = solver.get_variable(k,m,n0)\n",
    "        solver.solution.addConstraint(x_kmn == 1)\n",
    "\n",
    "        BB(\n",
    "            (solver),\n",
    "            n0+1,\n",
    "            remaining_power_budget,\n",
    "            data_3\n",
    "        )\n",
    "\n",
    "        solver.solution.constraints.popitem(-1)\n",
    "\n"
   ]
  },
  {
   "cell_type": "code",
   "execution_count": 180,
   "metadata": {},
   "outputs": [],
   "source": [
    "solver = PuLPSolver(\n",
    "    K,\n",
    "    M,\n",
    "    N, \n",
    "    p,\n",
    "    data_3\n",
    ")\n",
    "BB(\n",
    "    solver,\n",
    "    0,\n",
    "    p,\n",
    "    data_3\n",
    ")"
   ]
  },
  {
   "cell_type": "code",
   "execution_count": 181,
   "metadata": {},
   "outputs": [
    {
     "data": {
      "text/plain": [
       "350.0"
      ]
     },
     "execution_count": 181,
     "metadata": {},
     "output_type": "execute_result"
    }
   ],
   "source": [
    "best_rate"
   ]
  },
  {
   "cell_type": "code",
   "execution_count": 153,
   "metadata": {},
   "outputs": [
    {
     "data": {
      "text/plain": [
       "1"
      ]
     },
     "execution_count": 153,
     "metadata": {},
     "output_type": "execute_result"
    }
   ],
   "source": [
    "solver.solution.status"
   ]
  },
  {
   "cell_type": "code",
   "execution_count": 115,
   "metadata": {},
   "outputs": [],
   "source": [
    "solver = PuLPSolver(\n",
    "    K,\n",
    "    M,\n",
    "    N, \n",
    "    p,\n",
    "    data_3\n",
    ")"
   ]
  },
  {
   "cell_type": "code",
   "execution_count": 116,
   "metadata": {},
   "outputs": [],
   "source": [
    "solver.solve()"
   ]
  },
  {
   "cell_type": "code",
   "execution_count": 117,
   "metadata": {},
   "outputs": [],
   "source": [
    "k =1\n",
    "m = 0\n",
    "n0 = 0"
   ]
  },
  {
   "cell_type": "code",
   "execution_count": 118,
   "metadata": {},
   "outputs": [],
   "source": [
    "x_kmn = solver.get_variable(k,m,n0)"
   ]
  },
  {
   "cell_type": "code",
   "execution_count": 119,
   "metadata": {},
   "outputs": [],
   "source": []
  },
  {
   "cell_type": "code",
   "execution_count": 122,
   "metadata": {},
   "outputs": [
    {
     "data": {
      "text/plain": [
       "OrderedDict([('power_constraint',\n",
       "              7.0*x_0,0,1 + 2.0*x_0,0,3 + 27.0*x_0,1,0 + 46.0*x_0,1,1 + 1.0*x_1,0,0 + 2.0*x_1,0,1 + 9.0*x_1,1,3 + 1.0*x_2,0,2 + 25.0*x_2,1,2 + -100.0 <= 0),\n",
       "             ('_C1', 1*x_0,1,0 + 1*x_1,0,0 + -1 = 0),\n",
       "             ('_C2', 1*x_0,0,1 + 1*x_0,1,1 + 1*x_1,0,1 + -1 = 0),\n",
       "             ('_C3', 1*x_2,0,2 + 1*x_2,1,2 + -1 = 0),\n",
       "             ('_C4', 1*x_0,0,3 + 1*x_1,1,3 + -1 = 0)])"
      ]
     },
     "execution_count": 122,
     "metadata": {},
     "output_type": "execute_result"
    }
   ],
   "source": [
    "solver.solution.constraints"
   ]
  },
  {
   "cell_type": "code",
   "execution_count": 123,
   "metadata": {},
   "outputs": [
    {
     "data": {
      "text/plain": [
       "('_C4', 1*x_0,0,3 + 1*x_1,1,3 + -1 = 0)"
      ]
     },
     "execution_count": 123,
     "metadata": {},
     "output_type": "execute_result"
    }
   ],
   "source": [
    "solver.solution.constraints.popitem(-1)"
   ]
  },
  {
   "cell_type": "code",
   "execution_count": 68,
   "metadata": {},
   "outputs": [
    {
     "name": "stdout",
     "output_type": "stream",
     "text": [
      "1.0 0.0 0\n",
      "1.0 0.0 1\n"
     ]
    },
    {
     "ename": "PulpSolverError",
     "evalue": "Pulp: Error while executing /home/pedro/anaconda3/envs/user-scheduling-in-5g/lib/python3.12/site-packages/pulp/solverdir/cbc/linux/64/cbc",
     "output_type": "error",
     "traceback": [
      "\u001b[0;31m---------------------------------------------------------------------------\u001b[0m",
      "\u001b[0;31mPulpSolverError\u001b[0m                           Traceback (most recent call last)",
      "\u001b[1;32m/home/pedro/Desktop/Polytechnique/user-scheduling-in-5G/notebooks/05-BB.ipynb Cell 14\u001b[0m line \u001b[0;36m1\n\u001b[0;32m----> <a href='vscode-notebook-cell:/home/pedro/Desktop/Polytechnique/user-scheduling-in-5G/notebooks/05-BB.ipynb#X32sZmlsZQ%3D%3D?line=0'>1</a>\u001b[0m BB(\u001b[39mNone\u001b[39;49;00m, \u001b[39m0\u001b[39;49m, [],p, data_3)\n",
      "\u001b[1;32m/home/pedro/Desktop/Polytechnique/user-scheduling-in-5G/notebooks/05-BB.ipynb Cell 14\u001b[0m line \u001b[0;36m7\n\u001b[1;32m     <a href='vscode-notebook-cell:/home/pedro/Desktop/Polytechnique/user-scheduling-in-5G/notebooks/05-BB.ipynb#X32sZmlsZQ%3D%3D?line=69'>70</a>\u001b[0m solver\u001b[39m.\u001b[39msolution \u001b[39m+\u001b[39m\u001b[39m=\u001b[39m constraint\n\u001b[1;32m     <a href='vscode-notebook-cell:/home/pedro/Desktop/Polytechnique/user-scheduling-in-5G/notebooks/05-BB.ipynb#X32sZmlsZQ%3D%3D?line=70'>71</a>\u001b[0m solver\u001b[39m.\u001b[39msolve()\n\u001b[0;32m---> <a href='vscode-notebook-cell:/home/pedro/Desktop/Polytechnique/user-scheduling-in-5G/notebooks/05-BB.ipynb#X32sZmlsZQ%3D%3D?line=72'>73</a>\u001b[0m BB(\n\u001b[1;32m     <a href='vscode-notebook-cell:/home/pedro/Desktop/Polytechnique/user-scheduling-in-5G/notebooks/05-BB.ipynb#X32sZmlsZQ%3D%3D?line=73'>74</a>\u001b[0m     solver\u001b[39m.\u001b[39;49msolution, \n\u001b[1;32m     <a href='vscode-notebook-cell:/home/pedro/Desktop/Polytechnique/user-scheduling-in-5G/notebooks/05-BB.ipynb#X32sZmlsZQ%3D%3D?line=74'>75</a>\u001b[0m     n0\u001b[39m+\u001b[39;49m\u001b[39m1\u001b[39;49m, \n\u001b[1;32m     <a href='vscode-notebook-cell:/home/pedro/Desktop/Polytechnique/user-scheduling-in-5G/notebooks/05-BB.ipynb#X32sZmlsZQ%3D%3D?line=75'>76</a>\u001b[0m     constraints \u001b[39m+\u001b[39;49m [constraint],\n\u001b[1;32m     <a href='vscode-notebook-cell:/home/pedro/Desktop/Polytechnique/user-scheduling-in-5G/notebooks/05-BB.ipynb#X32sZmlsZQ%3D%3D?line=76'>77</a>\u001b[0m     remaining_power_budget, \n\u001b[1;32m     <a href='vscode-notebook-cell:/home/pedro/Desktop/Polytechnique/user-scheduling-in-5G/notebooks/05-BB.ipynb#X32sZmlsZQ%3D%3D?line=77'>78</a>\u001b[0m     data\n\u001b[1;32m     <a href='vscode-notebook-cell:/home/pedro/Desktop/Polytechnique/user-scheduling-in-5G/notebooks/05-BB.ipynb#X32sZmlsZQ%3D%3D?line=78'>79</a>\u001b[0m )\n",
      "\u001b[1;32m/home/pedro/Desktop/Polytechnique/user-scheduling-in-5G/notebooks/05-BB.ipynb Cell 14\u001b[0m line \u001b[0;36m7\n\u001b[1;32m     <a href='vscode-notebook-cell:/home/pedro/Desktop/Polytechnique/user-scheduling-in-5G/notebooks/05-BB.ipynb#X32sZmlsZQ%3D%3D?line=67'>68</a>\u001b[0m constraint \u001b[39m=\u001b[39m x_kmn \u001b[39m==\u001b[39m \u001b[39m1\u001b[39m\n\u001b[1;32m     <a href='vscode-notebook-cell:/home/pedro/Desktop/Polytechnique/user-scheduling-in-5G/notebooks/05-BB.ipynb#X32sZmlsZQ%3D%3D?line=69'>70</a>\u001b[0m solver\u001b[39m.\u001b[39msolution \u001b[39m+\u001b[39m\u001b[39m=\u001b[39m constraint\n\u001b[0;32m---> <a href='vscode-notebook-cell:/home/pedro/Desktop/Polytechnique/user-scheduling-in-5G/notebooks/05-BB.ipynb#X32sZmlsZQ%3D%3D?line=70'>71</a>\u001b[0m solver\u001b[39m.\u001b[39;49msolve()\n\u001b[1;32m     <a href='vscode-notebook-cell:/home/pedro/Desktop/Polytechnique/user-scheduling-in-5G/notebooks/05-BB.ipynb#X32sZmlsZQ%3D%3D?line=72'>73</a>\u001b[0m BB(\n\u001b[1;32m     <a href='vscode-notebook-cell:/home/pedro/Desktop/Polytechnique/user-scheduling-in-5G/notebooks/05-BB.ipynb#X32sZmlsZQ%3D%3D?line=73'>74</a>\u001b[0m     solver\u001b[39m.\u001b[39msolution, \n\u001b[1;32m     <a href='vscode-notebook-cell:/home/pedro/Desktop/Polytechnique/user-scheduling-in-5G/notebooks/05-BB.ipynb#X32sZmlsZQ%3D%3D?line=74'>75</a>\u001b[0m     n0\u001b[39m+\u001b[39m\u001b[39m1\u001b[39m, \n\u001b[0;32m   (...)\u001b[0m\n\u001b[1;32m     <a href='vscode-notebook-cell:/home/pedro/Desktop/Polytechnique/user-scheduling-in-5G/notebooks/05-BB.ipynb#X32sZmlsZQ%3D%3D?line=77'>78</a>\u001b[0m     data\n\u001b[1;32m     <a href='vscode-notebook-cell:/home/pedro/Desktop/Polytechnique/user-scheduling-in-5G/notebooks/05-BB.ipynb#X32sZmlsZQ%3D%3D?line=78'>79</a>\u001b[0m )\n",
      "File \u001b[0;32m~/Desktop/Polytechnique/user-scheduling-in-5G/src/solvers/pulp_solver.py:80\u001b[0m, in \u001b[0;36mPuLPSolver.solve\u001b[0;34m(self, data)\u001b[0m\n\u001b[1;32m     79\u001b[0m \u001b[39mdef\u001b[39;00m \u001b[39msolve\u001b[39m(\u001b[39mself\u001b[39m, data \u001b[39m=\u001b[39m \u001b[39mNone\u001b[39;00m):\n\u001b[0;32m---> 80\u001b[0m     \u001b[39mself\u001b[39;49m\u001b[39m.\u001b[39;49msolution\u001b[39m.\u001b[39;49msolve(PULP_CBC_CMD(msg\u001b[39m=\u001b[39;49m\u001b[39m0\u001b[39;49m))\n",
      "File \u001b[0;32m~/anaconda3/envs/user-scheduling-in-5g/lib/python3.12/site-packages/pulp/pulp.py:1883\u001b[0m, in \u001b[0;36mLpProblem.solve\u001b[0;34m(self, solver, **kwargs)\u001b[0m\n\u001b[1;32m   1881\u001b[0m \u001b[39m# time it\u001b[39;00m\n\u001b[1;32m   1882\u001b[0m \u001b[39mself\u001b[39m\u001b[39m.\u001b[39mstartClock()\n\u001b[0;32m-> 1883\u001b[0m status \u001b[39m=\u001b[39m solver\u001b[39m.\u001b[39;49mactualSolve(\u001b[39mself\u001b[39;49m, \u001b[39m*\u001b[39;49m\u001b[39m*\u001b[39;49mkwargs)\n\u001b[1;32m   1884\u001b[0m \u001b[39mself\u001b[39m\u001b[39m.\u001b[39mstopClock()\n\u001b[1;32m   1885\u001b[0m \u001b[39mself\u001b[39m\u001b[39m.\u001b[39mrestoreObjective(wasNone, dummyVar)\n",
      "File \u001b[0;32m~/anaconda3/envs/user-scheduling-in-5g/lib/python3.12/site-packages/pulp/apis/coin_api.py:112\u001b[0m, in \u001b[0;36mCOIN_CMD.actualSolve\u001b[0;34m(self, lp, **kwargs)\u001b[0m\n\u001b[1;32m    110\u001b[0m \u001b[39mdef\u001b[39;00m \u001b[39mactualSolve\u001b[39m(\u001b[39mself\u001b[39m, lp, \u001b[39m*\u001b[39m\u001b[39m*\u001b[39mkwargs):\n\u001b[1;32m    111\u001b[0m \u001b[39m    \u001b[39m\u001b[39m\"\"\"Solve a well formulated lp problem\"\"\"\u001b[39;00m\n\u001b[0;32m--> 112\u001b[0m     \u001b[39mreturn\u001b[39;00m \u001b[39mself\u001b[39;49m\u001b[39m.\u001b[39;49msolve_CBC(lp, \u001b[39m*\u001b[39;49m\u001b[39m*\u001b[39;49mkwargs)\n",
      "File \u001b[0;32m~/anaconda3/envs/user-scheduling-in-5g/lib/python3.12/site-packages/pulp/apis/coin_api.py:188\u001b[0m, in \u001b[0;36mCOIN_CMD.solve_CBC\u001b[0;34m(self, lp, use_mps)\u001b[0m\n\u001b[1;32m    186\u001b[0m     pipe\u001b[39m.\u001b[39mclose()\n\u001b[1;32m    187\u001b[0m \u001b[39mif\u001b[39;00m \u001b[39mnot\u001b[39;00m os\u001b[39m.\u001b[39mpath\u001b[39m.\u001b[39mexists(tmpSol):\n\u001b[0;32m--> 188\u001b[0m     \u001b[39mraise\u001b[39;00m PulpSolverError(\u001b[39m\"\u001b[39m\u001b[39mPulp: Error while executing \u001b[39m\u001b[39m\"\u001b[39m \u001b[39m+\u001b[39m \u001b[39mself\u001b[39m\u001b[39m.\u001b[39mpath)\n\u001b[1;32m    189\u001b[0m (\n\u001b[1;32m    190\u001b[0m     status,\n\u001b[1;32m    191\u001b[0m     values,\n\u001b[0;32m   (...)\u001b[0m\n\u001b[1;32m    195\u001b[0m     sol_status,\n\u001b[1;32m    196\u001b[0m ) \u001b[39m=\u001b[39m \u001b[39mself\u001b[39m\u001b[39m.\u001b[39mreadsol_MPS(tmpSol, lp, vs, variablesNames, constraintsNames)\n\u001b[1;32m    197\u001b[0m lp\u001b[39m.\u001b[39massignVarsVals(values)\n",
      "\u001b[0;31mPulpSolverError\u001b[0m: Pulp: Error while executing /home/pedro/anaconda3/envs/user-scheduling-in-5g/lib/python3.12/site-packages/pulp/solverdir/cbc/linux/64/cbc"
     ]
    }
   ],
   "source": [
    "BB(None, 0, [],p, data_3)"
   ]
  },
  {
   "cell_type": "code",
   "execution_count": 45,
   "metadata": {},
   "outputs": [
    {
     "data": {
      "text/plain": [
       "<src.solvers.solution.Solution at 0x7fd9c5ff5100>"
      ]
     },
     "execution_count": 45,
     "metadata": {},
     "output_type": "execute_result"
    }
   ],
   "source": []
  },
  {
   "cell_type": "code",
   "execution_count": 39,
   "metadata": {},
   "outputs": [
    {
     "data": {
      "text/plain": [
       "153.0"
      ]
     },
     "execution_count": 39,
     "metadata": {},
     "output_type": "execute_result"
    }
   ],
   "source": [
    "best_rate"
   ]
  },
  {
   "cell_type": "code",
   "execution_count": 46,
   "metadata": {},
   "outputs": [
    {
     "ename": "AttributeError",
     "evalue": "'Solution' object has no attribute 'variablesDict'",
     "output_type": "error",
     "traceback": [
      "\u001b[0;31m---------------------------------------------------------------------------\u001b[0m",
      "\u001b[0;31mAttributeError\u001b[0m                            Traceback (most recent call last)",
      "\u001b[1;32m/home/pedro/Desktop/Polytechnique/user-scheduling-in-5G/notebooks/05-BB.ipynb Cell 13\u001b[0m line \u001b[0;36m1\n\u001b[0;32m----> <a href='vscode-notebook-cell:/home/pedro/Desktop/Polytechnique/user-scheduling-in-5G/notebooks/05-BB.ipynb#X42sZmlsZQ%3D%3D?line=0'>1</a>\u001b[0m best_solution\u001b[39m.\u001b[39;49mvariablesDict()\n",
      "\u001b[0;31mAttributeError\u001b[0m: 'Solution' object has no attribute 'variablesDict'"
     ]
    }
   ],
   "source": [
    "best_solution.variablesDict()"
   ]
  },
  {
   "cell_type": "code",
   "execution_count": null,
   "metadata": {},
   "outputs": [],
   "source": []
  }
 ],
 "metadata": {
  "kernelspec": {
   "display_name": "user-scheduling-in-5g",
   "language": "python",
   "name": "python3"
  },
  "language_info": {
   "codemirror_mode": {
    "name": "ipython",
    "version": 3
   },
   "file_extension": ".py",
   "mimetype": "text/x-python",
   "name": "python",
   "nbconvert_exporter": "python",
   "pygments_lexer": "ipython3",
   "version": "3.12.1"
  }
 },
 "nbformat": 4,
 "nbformat_minor": 2
}
