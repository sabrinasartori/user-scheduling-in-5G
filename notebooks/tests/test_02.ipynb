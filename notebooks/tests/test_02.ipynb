{
 "cells": [
  {
   "cell_type": "code",
   "execution_count": 1,
   "metadata": {},
   "outputs": [],
   "source": [
    "%load_ext autoreload\n",
    "%autoreload 2"
   ]
  },
  {
   "cell_type": "code",
   "execution_count": 2,
   "metadata": {},
   "outputs": [
    {
     "name": "stderr",
     "output_type": "stream",
     "text": [
      "/tmp/ipykernel_117218/2326566885.py:1: DeprecationWarning: \n",
      "Pyarrow will become a required dependency of pandas in the next major release of pandas (pandas 3.0),\n",
      "(to allow more performant data types, such as the Arrow string type, and better interoperability with other libraries)\n",
      "but was not found to be installed on your system.\n",
      "If this would cause problems for you,\n",
      "please provide us feedback at https://github.com/pandas-dev/pandas/issues/54466\n",
      "        \n",
      "  import pandas as pd\n"
     ]
    }
   ],
   "source": [
    "import pandas as pd\n",
    "import matplotlib.pyplot as plt\n",
    "import numpy as np\n",
    "import os\n",
    "from pulp import *\n",
    "from copy import deepcopy\n",
    "while \"notebooks\" in os.getcwd():\n",
    "    os.chdir(\"..\")\n",
    "\n",
    "from src.preprocessing.parser import Parser\n",
    "from src.preprocessing.preprocessor import Preprocessor\n",
    "from src.solvers.solution import Solution\n",
    "from src.solvers.greedy import GreedySolver\n",
    "from src.solvers.pulp_solver import PuLPSolver\n",
    "from src.solvers.dp import DPSolver\n",
    "from src.solvers.base_solver import DPMethods\n",
    "\n",
    "from time import time\n",
    "from tqdm import tqdm\n",
    "from typing import Dict"
   ]
  },
  {
   "cell_type": "code",
   "execution_count": null,
   "metadata": {},
   "outputs": [],
   "source": []
  },
  {
   "cell_type": "code",
   "execution_count": 3,
   "metadata": {},
   "outputs": [],
   "source": [
    "def get_num_triples(dataset : Dict):\n",
    "    num_triples= 0\n",
    "    for n in dataset.keys():\n",
    "        num_triples += len(dataset[n])\n",
    "    \n",
    "    return num_triples"
   ]
  },
  {
   "cell_type": "markdown",
   "metadata": {},
   "source": [
    "## Test 02"
   ]
  },
  {
   "cell_type": "code",
   "execution_count": 4,
   "metadata": {},
   "outputs": [],
   "source": [
    "parser = Parser(\"data/testfiles/test2.txt\")"
   ]
  },
  {
   "cell_type": "code",
   "execution_count": 5,
   "metadata": {},
   "outputs": [
    {
     "name": "stderr",
     "output_type": "stream",
     "text": [
      "28it [00:00, 29709.21it/s]"
     ]
    },
    {
     "name": "stdout",
     "output_type": "stream",
     "text": [
      "Total execution time 0.08430099487304688 s\n"
     ]
    },
    {
     "name": "stderr",
     "output_type": "stream",
     "text": [
      "\n"
     ]
    }
   ],
   "source": [
    "t0 = time()\n",
    "info = parser.read()\n",
    "t1 = time()\n",
    "\n",
    "print(f\"Total execution time {t1 - t0} s\")"
   ]
  },
  {
   "cell_type": "code",
   "execution_count": 6,
   "metadata": {},
   "outputs": [],
   "source": [
    "dataset : Dict[int, pd.DataFrame ]= info['data']\n",
    "p, K, M, N = info['p'], info['K'], info['M'], info['N']"
   ]
  },
  {
   "cell_type": "code",
   "execution_count": null,
   "metadata": {},
   "outputs": [],
   "source": []
  },
  {
   "cell_type": "code",
   "execution_count": 9,
   "metadata": {},
   "outputs": [
    {
     "name": "stderr",
     "output_type": "stream",
     "text": [
      "100%|██████████| 4/4 [00:00<00:00, 6034.97it/s]\n",
      "100%|██████████| 4/4 [00:00<00:00, 32263.88it/s]\n",
      "  0%|          | 0/4 [00:00<?, ?it/s]"
     ]
    },
    {
     "name": "stderr",
     "output_type": "stream",
     "text": [
      "\n"
     ]
    },
    {
     "ename": "KeyError",
     "evalue": "0",
     "output_type": "error",
     "traceback": [
      "\u001b[0;31m---------------------------------------------------------------------------\u001b[0m",
      "\u001b[0;31mKeyError\u001b[0m                                  Traceback (most recent call last)",
      "Cell \u001b[0;32mIn[9], line 33\u001b[0m\n\u001b[1;32m     27\u001b[0m preprocessing_results[\u001b[38;5;124m'\u001b[39m\u001b[38;5;124mremove IP dominated\u001b[39m\u001b[38;5;124m'\u001b[39m] \u001b[38;5;241m=\u001b[39m {\n\u001b[1;32m     28\u001b[0m     \u001b[38;5;124m\"\u001b[39m\u001b[38;5;124mruntime\u001b[39m\u001b[38;5;124m\"\u001b[39m: t2\u001b[38;5;241m-\u001b[39mt1,\n\u001b[1;32m     29\u001b[0m     \u001b[38;5;124m\"\u001b[39m\u001b[38;5;124mnum_triples\u001b[39m\u001b[38;5;124m\"\u001b[39m: get_num_triples(data_2)\n\u001b[1;32m     30\u001b[0m }\n\u001b[1;32m     31\u001b[0m t2 \u001b[38;5;241m=\u001b[39m time()\n\u001b[0;32m---> 33\u001b[0m data_3 \u001b[38;5;241m=\u001b[39m \u001b[43mpreprocessor\u001b[49m\u001b[38;5;241;43m.\u001b[39;49m\u001b[43mremove_lp_dominated\u001b[49m\u001b[43m(\u001b[49m\u001b[43mdata_2\u001b[49m\u001b[43m)\u001b[49m\n\u001b[1;32m     34\u001b[0m t3 \u001b[38;5;241m=\u001b[39m time()\n\u001b[1;32m     35\u001b[0m preprocessing_results[\u001b[38;5;124m'\u001b[39m\u001b[38;5;124mremove LP dominated\u001b[39m\u001b[38;5;124m'\u001b[39m] \u001b[38;5;241m=\u001b[39m {\n\u001b[1;32m     36\u001b[0m     \u001b[38;5;124m\"\u001b[39m\u001b[38;5;124mruntime\u001b[39m\u001b[38;5;124m\"\u001b[39m: t3\u001b[38;5;241m-\u001b[39mt2,\n\u001b[1;32m     37\u001b[0m     \u001b[38;5;124m\"\u001b[39m\u001b[38;5;124mnum_triples\u001b[39m\u001b[38;5;124m\"\u001b[39m: get_num_triples(data_3)\n\u001b[1;32m     38\u001b[0m }\n",
      "File \u001b[0;32m~/Desktop/Polytechnique/user-scheduling-in-5G/src/preprocessing/preprocessor.py:161\u001b[0m, in \u001b[0;36mPreprocessor.remove_lp_dominated\u001b[0;34m(self, df)\u001b[0m\n\u001b[1;32m    158\u001b[0m dataset \u001b[38;5;241m=\u001b[39m deepcopy(df)\n\u001b[1;32m    159\u001b[0m \u001b[38;5;28;01mfor\u001b[39;00m n \u001b[38;5;129;01min\u001b[39;00m tqdm(\u001b[38;5;28mrange\u001b[39m(\u001b[38;5;28mself\u001b[39m\u001b[38;5;241m.\u001b[39mN)):\n\u001b[0;32m--> 161\u001b[0m     \u001b[38;5;28;01mif\u001b[39;00m \u001b[38;5;28mlen\u001b[39m(\u001b[43mdataset\u001b[49m\u001b[43m[\u001b[49m\u001b[43mn\u001b[49m\u001b[43m]\u001b[49m) \u001b[38;5;241m<\u001b[39m\u001b[38;5;241m=\u001b[39m \u001b[38;5;241m2\u001b[39m:\n\u001b[1;32m    162\u001b[0m         \u001b[38;5;28;01mcontinue\u001b[39;00m\n\u001b[1;32m    164\u001b[0m     idx1 \u001b[38;5;241m=\u001b[39m \u001b[38;5;241m0\u001b[39m\n",
      "\u001b[0;31mKeyError\u001b[0m: 0"
     ]
    }
   ],
   "source": [
    "preprocessing_results = {}\n",
    "preprocessing_results['initial data'] = {\n",
    "    \"runtime\": 0,\n",
    "    \"num_triples\": get_num_triples(dataset)\n",
    "}\n",
    "preprocessor = Preprocessor(\n",
    "    K, \n",
    "    M,\n",
    "    N,\n",
    "    p,\n",
    "    dataset\n",
    ")\n",
    "\n",
    "t0 = time()\n",
    "\n",
    "data_1 = preprocessor.remove_trivial_values()\n",
    "t1 = time()\n",
    "\n",
    "preprocessing_results['remove trivial values'] = {\n",
    "    \"runtime\": (t1 - t0),\n",
    "    \"num_triples\": get_num_triples(data_1)\n",
    "}\n",
    "t1 = time()\n",
    "\n",
    "data_2 = preprocessor.remove_ip_dominated(data_1)\n",
    "t2 = time()\n",
    "preprocessing_results['remove IP dominated'] = {\n",
    "    \"runtime\": t2-t1,\n",
    "    \"num_triples\": get_num_triples(data_2)\n",
    "}\n",
    "t2 = time()\n",
    "\n",
    "data_3 = preprocessor.remove_lp_dominated(data_2)\n",
    "t3 = time()\n",
    "preprocessing_results['remove LP dominated'] = {\n",
    "    \"runtime\": t3-t2,\n",
    "    \"num_triples\": get_num_triples(data_3)\n",
    "}\n"
   ]
  },
  {
   "cell_type": "code",
   "execution_count": 10,
   "metadata": {},
   "outputs": [
    {
     "data": {
      "text/html": [
       "<div>\n",
       "<style scoped>\n",
       "    .dataframe tbody tr th:only-of-type {\n",
       "        vertical-align: middle;\n",
       "    }\n",
       "\n",
       "    .dataframe tbody tr th {\n",
       "        vertical-align: top;\n",
       "    }\n",
       "\n",
       "    .dataframe thead th {\n",
       "        text-align: right;\n",
       "    }\n",
       "</style>\n",
       "<table border=\"1\" class=\"dataframe\">\n",
       "  <thead>\n",
       "    <tr style=\"text-align: right;\">\n",
       "      <th></th>\n",
       "      <th>initial data</th>\n",
       "      <th>remove trivial values</th>\n",
       "      <th>remove IP dominated</th>\n",
       "    </tr>\n",
       "  </thead>\n",
       "  <tbody>\n",
       "    <tr>\n",
       "      <th>runtime</th>\n",
       "      <td>0</td>\n",
       "      <td>0.022447</td>\n",
       "      <td>0.004132</td>\n",
       "    </tr>\n",
       "    <tr>\n",
       "      <th>num_triples</th>\n",
       "      <td>24</td>\n",
       "      <td>0.000000</td>\n",
       "      <td>0.000000</td>\n",
       "    </tr>\n",
       "  </tbody>\n",
       "</table>\n",
       "</div>"
      ],
      "text/plain": [
       "             initial data  remove trivial values  remove IP dominated\n",
       "runtime                 0               0.022447             0.004132\n",
       "num_triples            24               0.000000             0.000000"
      ]
     },
     "execution_count": 10,
     "metadata": {},
     "output_type": "execute_result"
    }
   ],
   "source": [
    "pd.DataFrame(preprocessing_results)"
   ]
  },
  {
   "cell_type": "markdown",
   "metadata": {},
   "source": [
    "## Greedy algorithm"
   ]
  },
  {
   "cell_type": "code",
   "execution_count": null,
   "metadata": {},
   "outputs": [],
   "source": [
    "lp_results = {}"
   ]
  },
  {
   "cell_type": "code",
   "execution_count": null,
   "metadata": {},
   "outputs": [
    {
     "name": "stdout",
     "output_type": "stream",
     "text": [
      "Welcome to the CBC MILP Solver \n",
      "Version: 2.10.3 \n",
      "Build Date: Dec 15 2019 \n",
      "\n",
      "command line - /home/pedro/anaconda3/envs/user-scheduling-in-5g/lib/python3.12/site-packages/pulp/solverdir/cbc/linux/64/cbc /tmp/72a46fb0bc4f4d2b937cbd2bdbb3a48f-pulp.mps -max -timeMode elapsed -branch -printingOptions all -solution /tmp/72a46fb0bc4f4d2b937cbd2bdbb3a48f-pulp.sol (default strategy 1)\n",
      "At line 2 NAME          MODEL\n",
      "At line 3 ROWS\n",
      "At line 10 COLUMNS\n",
      "At line 41 RHS\n",
      "At line 47 BOUNDS\n",
      "At line 58 ENDATA\n",
      "Problem MODEL has 5 rows, 10 columns and 20 elements\n",
      "Coin0008I MODEL read with 0 errors\n",
      "Option for timeMode changed from cpu to elapsed\n",
      "Presolve determined that the problem was infeasible with tolerance of 1e-08\n",
      "Analysis indicates model infeasible or unbounded\n",
      "0  Obj -0 Primal inf 3.9999996 (4) Dual inf 579 (10)\n",
      "6  Obj -2871.2 Primal inf 121.6 (2)\n",
      "Primal infeasible - objective value -2871.2\n",
      "PrimalInfeasible objective -2871.2 - 6 iterations time 0.002\n",
      "\n",
      "Result - Linear relaxation infeasible\n",
      "\n",
      "Enumerated nodes:           0\n",
      "Total iterations:           0\n",
      "Time (CPU seconds):         0.00\n",
      "Time (Wallclock Seconds):   0.00\n",
      "\n",
      "Option for printingOptions changed from normal to all\n",
      "Total time (CPU seconds):       0.00   (Wallclock seconds):       0.00\n",
      "\n"
     ]
    }
   ],
   "source": [
    "pulp_solver = PuLPSolver(\n",
    "    K, \n",
    "    M,\n",
    "    N,\n",
    "    p,\n",
    "    data_3\n",
    ")\n",
    "pulp_solver.set_problem(data_3)\n",
    "\n",
    "t1 = time()\n",
    "pulp_solver.solve()\n",
    "t2 = time()\n",
    "\n",
    "lp_results['pulp'] = {\n",
    "    'runtime': t2-t1,\n",
    "    'data_rate' : pulp_solver.solution.objective.value()\n",
    "}"
   ]
  },
  {
   "cell_type": "code",
   "execution_count": null,
   "metadata": {},
   "outputs": [
    {
     "ename": "ValueError",
     "evalue": "You can only consume at most the power you have available. Tryed to consume 101.0 but have only 100.0 available",
     "output_type": "error",
     "traceback": [
      "\u001b[0;31m---------------------------------------------------------------------------\u001b[0m",
      "\u001b[0;31mValueError\u001b[0m                                Traceback (most recent call last)",
      "\u001b[1;32m/home/pedro/Desktop/Polytechnique/user-scheduling-in-5G/notebooks/tests/test_02.ipynb Cell 15\u001b[0m line \u001b[0;36m1\n\u001b[1;32m      <a href='vscode-notebook-cell:/home/pedro/Desktop/Polytechnique/user-scheduling-in-5G/notebooks/tests/test_02.ipynb#X20sZmlsZQ%3D%3D?line=0'>1</a>\u001b[0m solver \u001b[39m=\u001b[39m GreedySolver(\n\u001b[1;32m      <a href='vscode-notebook-cell:/home/pedro/Desktop/Polytechnique/user-scheduling-in-5G/notebooks/tests/test_02.ipynb#X20sZmlsZQ%3D%3D?line=1'>2</a>\u001b[0m     K, \n\u001b[1;32m      <a href='vscode-notebook-cell:/home/pedro/Desktop/Polytechnique/user-scheduling-in-5G/notebooks/tests/test_02.ipynb#X20sZmlsZQ%3D%3D?line=2'>3</a>\u001b[0m     M,\n\u001b[0;32m   (...)\u001b[0m\n\u001b[1;32m      <a href='vscode-notebook-cell:/home/pedro/Desktop/Polytechnique/user-scheduling-in-5G/notebooks/tests/test_02.ipynb#X20sZmlsZQ%3D%3D?line=5'>6</a>\u001b[0m     data_3\n\u001b[1;32m      <a href='vscode-notebook-cell:/home/pedro/Desktop/Polytechnique/user-scheduling-in-5G/notebooks/tests/test_02.ipynb#X20sZmlsZQ%3D%3D?line=6'>7</a>\u001b[0m )\n\u001b[1;32m      <a href='vscode-notebook-cell:/home/pedro/Desktop/Polytechnique/user-scheduling-in-5G/notebooks/tests/test_02.ipynb#X20sZmlsZQ%3D%3D?line=8'>9</a>\u001b[0m t1 \u001b[39m=\u001b[39m time()\n\u001b[0;32m---> <a href='vscode-notebook-cell:/home/pedro/Desktop/Polytechnique/user-scheduling-in-5G/notebooks/tests/test_02.ipynb#X20sZmlsZQ%3D%3D?line=9'>10</a>\u001b[0m solver\u001b[39m.\u001b[39;49msolve(data_3)\n\u001b[1;32m     <a href='vscode-notebook-cell:/home/pedro/Desktop/Polytechnique/user-scheduling-in-5G/notebooks/tests/test_02.ipynb#X20sZmlsZQ%3D%3D?line=10'>11</a>\u001b[0m t2 \u001b[39m=\u001b[39m time()\n\u001b[1;32m     <a href='vscode-notebook-cell:/home/pedro/Desktop/Polytechnique/user-scheduling-in-5G/notebooks/tests/test_02.ipynb#X20sZmlsZQ%3D%3D?line=12'>13</a>\u001b[0m lp_results[\u001b[39m'\u001b[39m\u001b[39mgreedy\u001b[39m\u001b[39m'\u001b[39m] \u001b[39m=\u001b[39m {\n\u001b[1;32m     <a href='vscode-notebook-cell:/home/pedro/Desktop/Polytechnique/user-scheduling-in-5G/notebooks/tests/test_02.ipynb#X20sZmlsZQ%3D%3D?line=13'>14</a>\u001b[0m     \u001b[39m'\u001b[39m\u001b[39mruntime\u001b[39m\u001b[39m'\u001b[39m: t2\u001b[39m-\u001b[39mt1,\n\u001b[1;32m     <a href='vscode-notebook-cell:/home/pedro/Desktop/Polytechnique/user-scheduling-in-5G/notebooks/tests/test_02.ipynb#X20sZmlsZQ%3D%3D?line=14'>15</a>\u001b[0m     \u001b[39m'\u001b[39m\u001b[39mdata_rate\u001b[39m\u001b[39m'\u001b[39m : solver\u001b[39m.\u001b[39msolution\u001b[39m.\u001b[39mget_data_rate()\n\u001b[1;32m     <a href='vscode-notebook-cell:/home/pedro/Desktop/Polytechnique/user-scheduling-in-5G/notebooks/tests/test_02.ipynb#X20sZmlsZQ%3D%3D?line=15'>16</a>\u001b[0m }\n",
      "File \u001b[0;32m~/Desktop/Polytechnique/user-scheduling-in-5G/src/solvers/greedy.py:40\u001b[0m, in \u001b[0;36mGreedySolver.solve\u001b[0;34m(self, data)\u001b[0m\n\u001b[1;32m     32\u001b[0m k \u001b[39m=\u001b[39m data[n]\\\n\u001b[1;32m     33\u001b[0m     \u001b[39m.\u001b[39miloc[\u001b[39m0\u001b[39m]\\\n\u001b[1;32m     34\u001b[0m     [\u001b[39m'\u001b[39m\u001b[39mk\u001b[39m\u001b[39m'\u001b[39m]\n\u001b[1;32m     36\u001b[0m m \u001b[39m=\u001b[39m data[n]\\\n\u001b[1;32m     37\u001b[0m     \u001b[39m.\u001b[39miloc[\u001b[39m0\u001b[39m]\\\n\u001b[1;32m     38\u001b[0m     [\u001b[39m'\u001b[39m\u001b[39mm\u001b[39m\u001b[39m'\u001b[39m]\n\u001b[0;32m---> 40\u001b[0m \u001b[39mself\u001b[39;49m\u001b[39m.\u001b[39;49msolution\u001b[39m.\u001b[39;49mconsume_power_budget(p_kmn) \n\u001b[1;32m     41\u001b[0m \u001b[39mself\u001b[39m\u001b[39m.\u001b[39msolution\u001b[39m.\u001b[39madd_data_rate(r_kmn)\n\u001b[1;32m     43\u001b[0m \u001b[39mself\u001b[39m\u001b[39m.\u001b[39msolution\u001b[39m.\u001b[39mset_triple(k,m,n,p_kmn, r_kmn)\n",
      "File \u001b[0;32m~/Desktop/Polytechnique/user-scheduling-in-5G/src/solvers/solution.py:83\u001b[0m, in \u001b[0;36mSolution.consume_power_budget\u001b[0;34m(self, value)\u001b[0m\n\u001b[1;32m     81\u001b[0m \u001b[39mdef\u001b[39;00m \u001b[39mconsume_power_budget\u001b[39m(\u001b[39mself\u001b[39m, value : \u001b[39mfloat\u001b[39m):\n\u001b[1;32m     82\u001b[0m     \u001b[39mif\u001b[39;00m value \u001b[39m>\u001b[39m \u001b[39mself\u001b[39m\u001b[39m.\u001b[39m__remaining_power_budget:\n\u001b[0;32m---> 83\u001b[0m         \u001b[39mraise\u001b[39;00m \u001b[39mValueError\u001b[39;00m(\u001b[39mf\u001b[39m\u001b[39m\"\u001b[39m\u001b[39mYou can only consume at most the power you have available. Tryed to consume \u001b[39m\u001b[39m{\u001b[39;00mvalue\u001b[39m}\u001b[39;00m\u001b[39m but have only \u001b[39m\u001b[39m{\u001b[39;00m\u001b[39mself\u001b[39m\u001b[39m.\u001b[39m__remaining_power_budget\u001b[39m}\u001b[39;00m\u001b[39m available\u001b[39m\u001b[39m\"\u001b[39m)\n\u001b[1;32m     85\u001b[0m     \u001b[39mself\u001b[39m\u001b[39m.\u001b[39m__remaining_power_budget \u001b[39m-\u001b[39m\u001b[39m=\u001b[39m value\n",
      "\u001b[0;31mValueError\u001b[0m: You can only consume at most the power you have available. Tryed to consume 101.0 but have only 100.0 available"
     ]
    }
   ],
   "source": [
    "solver = GreedySolver(\n",
    "    K, \n",
    "    M,\n",
    "    N,\n",
    "    p,\n",
    "    data_3\n",
    ")\n",
    "\n",
    "t1 = time()\n",
    "solver.solve(data_3)\n",
    "t2 = time()\n",
    "\n",
    "lp_results['greedy'] = {\n",
    "    'runtime': t2-t1,\n",
    "    'data_rate' : solver.solution.get_data_rate()\n",
    "}\n"
   ]
  },
  {
   "cell_type": "code",
   "execution_count": null,
   "metadata": {},
   "outputs": [
    {
     "data": {
      "text/html": [
       "<div>\n",
       "<style scoped>\n",
       "    .dataframe tbody tr th:only-of-type {\n",
       "        vertical-align: middle;\n",
       "    }\n",
       "\n",
       "    .dataframe tbody tr th {\n",
       "        vertical-align: top;\n",
       "    }\n",
       "\n",
       "    .dataframe thead th {\n",
       "        text-align: right;\n",
       "    }\n",
       "</style>\n",
       "<table border=\"1\" class=\"dataframe\">\n",
       "  <thead>\n",
       "    <tr style=\"text-align: right;\">\n",
       "      <th></th>\n",
       "      <th>greedy</th>\n",
       "      <th>pulp</th>\n",
       "    </tr>\n",
       "  </thead>\n",
       "  <tbody>\n",
       "    <tr>\n",
       "      <th>runtime</th>\n",
       "      <td>0.009554</td>\n",
       "      <td>0.005116</td>\n",
       "    </tr>\n",
       "    <tr>\n",
       "      <th>data_rate</th>\n",
       "      <td>365.000000</td>\n",
       "      <td>365.000000</td>\n",
       "    </tr>\n",
       "  </tbody>\n",
       "</table>\n",
       "</div>"
      ],
      "text/plain": [
       "               greedy        pulp\n",
       "runtime      0.009554    0.005116\n",
       "data_rate  365.000000  365.000000"
      ]
     },
     "execution_count": 39,
     "metadata": {},
     "output_type": "execute_result"
    }
   ],
   "source": [
    "pd.DataFrame(lp_results)"
   ]
  },
  {
   "cell_type": "code",
   "execution_count": null,
   "metadata": {},
   "outputs": [],
   "source": []
  },
  {
   "cell_type": "markdown",
   "metadata": {},
   "source": [
    "## Solutions to the ILP"
   ]
  },
  {
   "cell_type": "code",
   "execution_count": null,
   "metadata": {},
   "outputs": [
    {
     "name": "stdout",
     "output_type": "stream",
     "text": [
      "Welcome to the CBC MILP Solver \n",
      "Version: 2.10.3 \n",
      "Build Date: Dec 15 2019 \n",
      "\n",
      "command line - /home/pedro/anaconda3/envs/user-scheduling-in-5g/lib/python3.12/site-packages/pulp/solverdir/cbc/linux/64/cbc /tmp/5270027464e24cd984a384939cce6188-pulp.mps -max -timeMode elapsed -branch -printingOptions all -solution /tmp/5270027464e24cd984a384939cce6188-pulp.sol (default strategy 1)\n",
      "At line 2 NAME          MODEL\n",
      "At line 3 ROWS\n",
      "At line 10 COLUMNS\n",
      "At line 35 RHS\n",
      "At line 41 BOUNDS\n",
      "At line 50 ENDATA\n",
      "Problem MODEL has 5 rows, 8 columns and 16 elements\n",
      "Coin0008I MODEL read with 0 errors\n",
      "Option for timeMode changed from cpu to elapsed\n",
      "Presolve 0 (-5) rows, 0 (-8) columns and 0 (-16) elements\n",
      "Empty problem - 0 rows, 0 columns and 0 elements\n",
      "Optimal - objective value 365\n",
      "After Postsolve, objective 365, infeasibilities - dual 191 (4), primal 0 (0)\n",
      "Presolved model was optimal, full model needs cleaning up\n",
      "0  Obj 365 Dual inf 234.9072 (4)\n",
      "4  Obj 365\n",
      "Optimal - objective value 365\n",
      "Optimal objective 365 - 4 iterations time 0.002, Presolve 0.00\n",
      "Option for printingOptions changed from normal to all\n",
      "Total time (CPU seconds):       0.00   (Wallclock seconds):       0.00\n",
      "\n"
     ]
    }
   ],
   "source": [
    "dp_solver = DPSolver(\n",
    "    K, \n",
    "    M,\n",
    "    N,\n",
    "    p,\n",
    "    data_3\n",
    ")\n",
    "\n",
    "t1 = time()\n",
    "dp_solver.solve(\n",
    "    None,\n",
    "    method = DPMethods.MAXIMIZE_R\n",
    ")\n",
    "t2 = time()\n",
    "ilp_results['DP_maximize_r'] = {\n",
    "    'runtime' : t2 - t1,\n",
    "    \"data_rate\" : dp_solver.solution.get_data_rate()\n",
    "}\n",
    "\n",
    "pulp_solver.solve()\n",
    "U = int(pulp_solver.solution.objective.value())\n",
    "\n",
    "t1 = time()\n",
    "dp_solver.solve(\n",
    "    None,\n",
    "    method = DPMethods.MINIMIZE_P,\n",
    "    U = U\n",
    ")\n",
    "t2 = time()\n",
    "\n",
    "ilp_results['DP_minimize_p'] = {\n",
    "    'runtime' : t2 - t1,\n",
    "    \"data_rate\" : dp_solver.solution.get_data_rate()\n",
    "}"
   ]
  }
 ],
 "metadata": {
  "kernelspec": {
   "display_name": "user-scheduling-in-5g",
   "language": "python",
   "name": "python3"
  },
  "language_info": {
   "codemirror_mode": {
    "name": "ipython",
    "version": 3
   },
   "file_extension": ".py",
   "mimetype": "text/x-python",
   "name": "python",
   "nbconvert_exporter": "python",
   "pygments_lexer": "ipython3",
   "version": "3.12.1"
  }
 },
 "nbformat": 4,
 "nbformat_minor": 2
}
