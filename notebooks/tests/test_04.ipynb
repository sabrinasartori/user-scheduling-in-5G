{
 "cells": [
  {
   "cell_type": "code",
   "execution_count": 1,
   "metadata": {},
   "outputs": [],
   "source": [
    "%load_ext autoreload\n",
    "%autoreload 2"
   ]
  },
  {
   "cell_type": "code",
   "execution_count": 2,
   "metadata": {},
   "outputs": [
    {
     "name": "stderr",
     "output_type": "stream",
     "text": [
      "/tmp/ipykernel_374912/3561605614.py:1: DeprecationWarning: \n",
      "Pyarrow will become a required dependency of pandas in the next major release of pandas (pandas 3.0),\n",
      "(to allow more performant data types, such as the Arrow string type, and better interoperability with other libraries)\n",
      "but was not found to be installed on your system.\n",
      "If this would cause problems for you,\n",
      "please provide us feedback at https://github.com/pandas-dev/pandas/issues/54466\n",
      "        \n",
      "  import pandas as pd\n"
     ]
    }
   ],
   "source": [
    "import pandas as pd\n",
    "import matplotlib.pyplot as plt\n",
    "import numpy as np\n",
    "import os\n",
    "from pulp import *\n",
    "from copy import deepcopy\n",
    "while \"notebooks\" in os.getcwd():\n",
    "    os.chdir(\"..\")\n",
    "\n",
    "from src.preprocessing.parser import Parser\n",
    "from src.preprocessing.preprocessor import Preprocessor\n",
    "from src.solvers.solution import Solution\n",
    "from src.solvers.greedy import GreedySolver\n",
    "from src.solvers.pulp_solver import PuLPSolver\n",
    "\n",
    "from time import time\n",
    "from tqdm import tqdm\n",
    "from typing import Dict"
   ]
  },
  {
   "cell_type": "code",
   "execution_count": null,
   "metadata": {},
   "outputs": [],
   "source": []
  },
  {
   "cell_type": "code",
   "execution_count": 3,
   "metadata": {},
   "outputs": [],
   "source": [
    "def get_num_triples(dataset : Dict):\n",
    "    num_triples= 0\n",
    "    for n in dataset.keys():\n",
    "        num_triples += len(dataset[n])\n",
    "    \n",
    "    return num_triples"
   ]
  },
  {
   "cell_type": "markdown",
   "metadata": {},
   "source": [
    "## Test 04"
   ]
  },
  {
   "cell_type": "code",
   "execution_count": 4,
   "metadata": {},
   "outputs": [],
   "source": [
    "parser = Parser(\"data/testfiles/test4.txt\")"
   ]
  },
  {
   "cell_type": "code",
   "execution_count": 5,
   "metadata": {},
   "outputs": [
    {
     "name": "stderr",
     "output_type": "stream",
     "text": [
      "3869it [00:00, 18033.05it/s]"
     ]
    },
    {
     "name": "stderr",
     "output_type": "stream",
     "text": [
      "76804it [00:01, 46535.36it/s]\n"
     ]
    },
    {
     "name": "stdout",
     "output_type": "stream",
     "text": [
      "Total execution time 5.859124660491943 s\n"
     ]
    }
   ],
   "source": [
    "t0 = time()\n",
    "info = parser.read()\n",
    "t1 = time()\n",
    "\n",
    "print(f\"Total execution time {t1 - t0} s\")"
   ]
  },
  {
   "cell_type": "code",
   "execution_count": 6,
   "metadata": {},
   "outputs": [],
   "source": [
    "dataset : Dict[int, pd.DataFrame ]= info['data']\n",
    "p, K, M, N = info['p'], info['K'], info['M'], info['N']"
   ]
  },
  {
   "cell_type": "code",
   "execution_count": null,
   "metadata": {},
   "outputs": [],
   "source": []
  },
  {
   "cell_type": "code",
   "execution_count": 7,
   "metadata": {},
   "outputs": [
    {
     "name": "stderr",
     "output_type": "stream",
     "text": [
      "100%|██████████| 640/640 [00:00<00:00, 9512.04it/s]\n",
      "100%|██████████| 640/640 [03:04<00:00,  3.46it/s]\n",
      "100%|██████████| 640/640 [00:05<00:00, 108.73it/s]\n"
     ]
    }
   ],
   "source": [
    "preprocessing_results = {}\n",
    "preprocessor = Preprocessor(\n",
    "    K, \n",
    "    M,\n",
    "    N,\n",
    "    p,\n",
    "    dataset\n",
    ")\n",
    "\n",
    "t0 = time()\n",
    "\n",
    "data_1 = preprocessor.remove_trivial_values()\n",
    "t1 = time()\n",
    "\n",
    "preprocessing_results['remove trivial values'] = {\n",
    "    \"runtime\": (t1 - t0),\n",
    "    \"num_triples\": get_num_triples(data_1)\n",
    "}\n",
    "t1 = time()\n",
    "\n",
    "data_2 = preprocessor.remove_ip_dominated(dataset)\n",
    "t2 = time()\n",
    "preprocessing_results['remove IP dominated'] = {\n",
    "    \"runtime\": t2-t1,\n",
    "    \"num_triples\": get_num_triples(data_2)\n",
    "}\n",
    "t2 = time()\n",
    "\n",
    "data_3 = preprocessor.remove_lp_dominated(data_2)\n",
    "t3 = time()\n",
    "preprocessing_results['remove LP dominated'] = {\n",
    "    \"runtime\": t3-t2,\n",
    "    \"num_triples\": get_num_triples(data_3)\n",
    "}\n"
   ]
  },
  {
   "cell_type": "code",
   "execution_count": 8,
   "metadata": {},
   "outputs": [
    {
     "data": {
      "text/html": [
       "<div>\n",
       "<style scoped>\n",
       "    .dataframe tbody tr th:only-of-type {\n",
       "        vertical-align: middle;\n",
       "    }\n",
       "\n",
       "    .dataframe tbody tr th {\n",
       "        vertical-align: top;\n",
       "    }\n",
       "\n",
       "    .dataframe thead th {\n",
       "        text-align: right;\n",
       "    }\n",
       "</style>\n",
       "<table border=\"1\" class=\"dataframe\">\n",
       "  <thead>\n",
       "    <tr style=\"text-align: right;\">\n",
       "      <th></th>\n",
       "      <th>remove trivial values</th>\n",
       "      <th>remove IP dominated</th>\n",
       "      <th>remove LP dominated</th>\n",
       "    </tr>\n",
       "  </thead>\n",
       "  <tbody>\n",
       "    <tr>\n",
       "      <th>runtime</th>\n",
       "      <td>16.766417</td>\n",
       "      <td>184.780019</td>\n",
       "      <td>20.072942</td>\n",
       "    </tr>\n",
       "    <tr>\n",
       "      <th>num_triples</th>\n",
       "      <td>614400.000000</td>\n",
       "      <td>14688.000000</td>\n",
       "      <td>4974.000000</td>\n",
       "    </tr>\n",
       "  </tbody>\n",
       "</table>\n",
       "</div>"
      ],
      "text/plain": [
       "             remove trivial values  remove IP dominated  remove LP dominated\n",
       "runtime                  16.766417           184.780019            20.072942\n",
       "num_triples          614400.000000         14688.000000          4974.000000"
      ]
     },
     "execution_count": 8,
     "metadata": {},
     "output_type": "execute_result"
    }
   ],
   "source": [
    "pd.DataFrame(preprocessing_results)"
   ]
  },
  {
   "cell_type": "markdown",
   "metadata": {},
   "source": [
    "## Greedy algorithm"
   ]
  },
  {
   "cell_type": "code",
   "execution_count": 9,
   "metadata": {},
   "outputs": [],
   "source": [
    "lp_results = {}"
   ]
  },
  {
   "cell_type": "code",
   "execution_count": 10,
   "metadata": {},
   "outputs": [
    {
     "name": "stdout",
     "output_type": "stream",
     "text": [
      "Welcome to the CBC MILP Solver \n",
      "Version: 2.10.3 \n",
      "Build Date: Dec 15 2019 \n",
      "\n",
      "command line - /home/pedro/anaconda3/envs/user-scheduling-in-5g/lib/python3.12/site-packages/pulp/solverdir/cbc/linux/64/cbc /tmp/0b52388c47ad4d9e99198503ca1d5556-pulp.mps -max -timeMode elapsed -branch -printingOptions all -solution /tmp/0b52388c47ad4d9e99198503ca1d5556-pulp.sol (default strategy 1)\n",
      "At line 2 NAME          MODEL\n",
      "At line 3 ROWS\n",
      "At line 646 COLUMNS\n",
      "At line 15569 RHS\n",
      "At line 16211 BOUNDS\n",
      "At line 21186 ENDATA\n",
      "Problem MODEL has 641 rows, 4974 columns and 9948 elements\n",
      "Coin0008I MODEL read with 0 errors\n",
      "Option for timeMode changed from cpu to elapsed\n",
      "Presolve 641 (0) rows, 4974 (0) columns and 9948 (0) elements\n",
      "Perturbing problem by 0.001% of 343.39966 - largest nonzero change 0.00056729545 ( 0.0045587318%) - largest zero change 0\n",
      "0  Obj -0 Primal inf 979.79416 (640) Dual inf 251358.04 (4974)\n",
      "87  Obj 11382.886 Primal inf 499.25593 (332)\n",
      "174  Obj 10955.294 Primal inf 341.29992 (254)\n",
      "261  Obj 10663.951 Primal inf 230.50924 (190)\n",
      "348  Obj 10430.667 Primal inf 166.83377 (126)\n",
      "435  Obj 10145.111 Primal inf 62.559072 (65)\n",
      "520  Obj 9870.2932\n",
      "Optimal - objective value 9870.3218\n",
      "Optimal objective 9870.321839 - 520 iterations time 0.012\n",
      "Option for printingOptions changed from normal to all\n",
      "Total time (CPU seconds):       0.02   (Wallclock seconds):       0.02\n",
      "\n"
     ]
    }
   ],
   "source": [
    "pulp_solver = PuLPSolver(\n",
    "    K, \n",
    "    M,\n",
    "    N,\n",
    "    p,\n",
    "    data_3\n",
    ")\n",
    "pulp_solver.set_problem(data_3)\n",
    "\n",
    "t1 = time()\n",
    "pulp_solver.solve()\n",
    "t2 = time()\n",
    "\n",
    "lp_results['pulp'] = {\n",
    "    'runtime': t2-t1,\n",
    "    'data_rate' : pulp_solver.solution.objective.value()\n",
    "}"
   ]
  },
  {
   "cell_type": "code",
   "execution_count": 11,
   "metadata": {},
   "outputs": [],
   "source": [
    "solver = GreedySolver(\n",
    "    K, \n",
    "    M,\n",
    "    N,\n",
    "    p,\n",
    "    data_3\n",
    ")\n",
    "\n",
    "t1 = time()\n",
    "solver.solve(data_3)\n",
    "t2 = time()\n",
    "\n",
    "lp_results['greedy'] = {\n",
    "    'runtime': t2-t1,\n",
    "    'data_rate' : solver.solution.get_data_rate()\n",
    "}\n"
   ]
  },
  {
   "cell_type": "code",
   "execution_count": 12,
   "metadata": {},
   "outputs": [
    {
     "data": {
      "text/html": [
       "<div>\n",
       "<style scoped>\n",
       "    .dataframe tbody tr th:only-of-type {\n",
       "        vertical-align: middle;\n",
       "    }\n",
       "\n",
       "    .dataframe tbody tr th {\n",
       "        vertical-align: top;\n",
       "    }\n",
       "\n",
       "    .dataframe thead th {\n",
       "        text-align: right;\n",
       "    }\n",
       "</style>\n",
       "<table border=\"1\" class=\"dataframe\">\n",
       "  <thead>\n",
       "    <tr style=\"text-align: right;\">\n",
       "      <th></th>\n",
       "      <th>pulp</th>\n",
       "      <th>greedy</th>\n",
       "    </tr>\n",
       "  </thead>\n",
       "  <tbody>\n",
       "    <tr>\n",
       "      <th>runtime</th>\n",
       "      <td>0.079182</td>\n",
       "      <td>1.170413</td>\n",
       "    </tr>\n",
       "    <tr>\n",
       "      <th>data_rate</th>\n",
       "      <td>9870.321839</td>\n",
       "      <td>9870.321839</td>\n",
       "    </tr>\n",
       "  </tbody>\n",
       "</table>\n",
       "</div>"
      ],
      "text/plain": [
       "                  pulp       greedy\n",
       "runtime       0.079182     1.170413\n",
       "data_rate  9870.321839  9870.321839"
      ]
     },
     "execution_count": 12,
     "metadata": {},
     "output_type": "execute_result"
    }
   ],
   "source": [
    "pd.DataFrame(lp_results)"
   ]
  },
  {
   "cell_type": "code",
   "execution_count": null,
   "metadata": {},
   "outputs": [],
   "source": []
  }
 ],
 "metadata": {
  "kernelspec": {
   "display_name": "user-scheduling-in-5g",
   "language": "python",
   "name": "python3"
  },
  "language_info": {
   "codemirror_mode": {
    "name": "ipython",
    "version": 3
   },
   "file_extension": ".py",
   "mimetype": "text/x-python",
   "name": "python",
   "nbconvert_exporter": "python",
   "pygments_lexer": "ipython3",
   "version": "3.12.1"
  }
 },
 "nbformat": 4,
 "nbformat_minor": 2
}
