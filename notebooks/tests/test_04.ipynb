{
 "cells": [
  {
   "cell_type": "code",
   "execution_count": 23,
   "metadata": {},
   "outputs": [
    {
     "name": "stdout",
     "output_type": "stream",
     "text": [
      "The autoreload extension is already loaded. To reload it, use:\n",
      "  %reload_ext autoreload\n"
     ]
    }
   ],
   "source": [
    "%load_ext autoreload\n",
    "%autoreload 2"
   ]
  },
  {
   "cell_type": "code",
   "execution_count": 24,
   "metadata": {},
   "outputs": [],
   "source": [
    "import pandas as pd\n",
    "import matplotlib.pyplot as plt\n",
    "import numpy as np\n",
    "import os\n",
    "from pulp import *\n",
    "from copy import deepcopy\n",
    "while \"notebooks\" in os.getcwd():\n",
    "    os.chdir(\"..\")\n",
    "\n",
    "from src.preprocessing.parser import Parser\n",
    "from src.preprocessing.preprocessor import Preprocessor\n",
    "from src.solvers.solution import Solution\n",
    "from src.solvers.greedy import GreedySolver\n",
    "from src.solvers.pulp_solver import PuLPSolver\n",
    "from src.solvers.dp import DPSolver\n",
    "from src.solvers.base_solver import DPMethods\n",
    "from src.solvers.bb import BBSolver\n",
    "\n",
    "from time import time\n",
    "from tqdm import tqdm\n",
    "from typing import Dict"
   ]
  },
  {
   "cell_type": "code",
   "execution_count": null,
   "metadata": {},
   "outputs": [],
   "source": []
  },
  {
   "cell_type": "code",
   "execution_count": 25,
   "metadata": {},
   "outputs": [],
   "source": [
    "def get_num_triples(dataset : Dict):\n",
    "    num_triples= 0\n",
    "    for n in dataset.keys():\n",
    "        num_triples += len(dataset[n])\n",
    "    \n",
    "    return num_triples"
   ]
  },
  {
   "cell_type": "markdown",
   "metadata": {},
   "source": [
    "## Test 04"
   ]
  },
  {
   "cell_type": "code",
   "execution_count": 26,
   "metadata": {},
   "outputs": [],
   "source": [
    "parser = Parser(\"data/testfiles/test4.txt\")"
   ]
  },
  {
   "cell_type": "code",
   "execution_count": 27,
   "metadata": {},
   "outputs": [
    {
     "name": "stderr",
     "output_type": "stream",
     "text": [
      "6776it [00:00, 24305.84it/s]"
     ]
    },
    {
     "name": "stderr",
     "output_type": "stream",
     "text": [
      "76804it [00:02, 34161.19it/s]\n"
     ]
    },
    {
     "name": "stdout",
     "output_type": "stream",
     "text": [
      "Total execution time 6.635010242462158 s\n"
     ]
    }
   ],
   "source": [
    "t0 = time()\n",
    "info = parser.read()\n",
    "t1 = time()\n",
    "\n",
    "print(f\"Total execution time {t1 - t0} s\")"
   ]
  },
  {
   "cell_type": "code",
   "execution_count": 28,
   "metadata": {},
   "outputs": [],
   "source": [
    "dataset : Dict[int, pd.DataFrame ]= info['data']\n",
    "p, K, M, N = info['p'], info['K'], info['M'], info['N']"
   ]
  },
  {
   "cell_type": "code",
   "execution_count": null,
   "metadata": {},
   "outputs": [],
   "source": []
  },
  {
   "cell_type": "code",
   "execution_count": 29,
   "metadata": {},
   "outputs": [
    {
     "name": "stderr",
     "output_type": "stream",
     "text": [
      "  0%|          | 0/640 [00:00<?, ?it/s]"
     ]
    },
    {
     "name": "stderr",
     "output_type": "stream",
     "text": [
      "100%|██████████| 640/640 [00:00<00:00, 6811.68it/s]\n",
      "100%|██████████| 640/640 [03:09<00:00,  3.37it/s]\n",
      "100%|██████████| 640/640 [00:05<00:00, 119.39it/s]\n"
     ]
    }
   ],
   "source": [
    "preprocessing_results = {}\n",
    "preprocessor = Preprocessor(\n",
    "    K, \n",
    "    M,\n",
    "    N,\n",
    "    p,\n",
    "    dataset\n",
    ")\n",
    "\n",
    "t0 = time()\n",
    "\n",
    "data_1 = preprocessor.remove_trivial_values()\n",
    "t1 = time()\n",
    "\n",
    "preprocessing_results['remove trivial values'] = {\n",
    "    \"runtime\": (t1 - t0),\n",
    "    \"num_triples\": get_num_triples(data_1)\n",
    "}\n",
    "t1 = time()\n",
    "\n",
    "data_2 = preprocessor.remove_ip_dominated(dataset)\n",
    "t2 = time()\n",
    "preprocessing_results['remove IP dominated'] = {\n",
    "    \"runtime\": t2-t1,\n",
    "    \"num_triples\": get_num_triples(data_2)\n",
    "}\n",
    "t2 = time()\n",
    "\n",
    "data_3 = preprocessor.remove_lp_dominated(data_2)\n",
    "t3 = time()\n",
    "preprocessing_results['remove LP dominated'] = {\n",
    "    \"runtime\": t3-t2,\n",
    "    \"num_triples\": get_num_triples(data_3)\n",
    "}\n"
   ]
  },
  {
   "cell_type": "code",
   "execution_count": 30,
   "metadata": {},
   "outputs": [
    {
     "data": {
      "text/html": [
       "<div>\n",
       "<style scoped>\n",
       "    .dataframe tbody tr th:only-of-type {\n",
       "        vertical-align: middle;\n",
       "    }\n",
       "\n",
       "    .dataframe tbody tr th {\n",
       "        vertical-align: top;\n",
       "    }\n",
       "\n",
       "    .dataframe thead th {\n",
       "        text-align: right;\n",
       "    }\n",
       "</style>\n",
       "<table border=\"1\" class=\"dataframe\">\n",
       "  <thead>\n",
       "    <tr style=\"text-align: right;\">\n",
       "      <th></th>\n",
       "      <th>remove trivial values</th>\n",
       "      <th>remove IP dominated</th>\n",
       "      <th>remove LP dominated</th>\n",
       "    </tr>\n",
       "  </thead>\n",
       "  <tbody>\n",
       "    <tr>\n",
       "      <th>runtime</th>\n",
       "      <td>20.145691</td>\n",
       "      <td>189.846306</td>\n",
       "      <td>17.184645</td>\n",
       "    </tr>\n",
       "    <tr>\n",
       "      <th>num_triples</th>\n",
       "      <td>614400.000000</td>\n",
       "      <td>14688.000000</td>\n",
       "      <td>4974.000000</td>\n",
       "    </tr>\n",
       "  </tbody>\n",
       "</table>\n",
       "</div>"
      ],
      "text/plain": [
       "             remove trivial values  remove IP dominated  remove LP dominated\n",
       "runtime                  20.145691           189.846306            17.184645\n",
       "num_triples          614400.000000         14688.000000          4974.000000"
      ]
     },
     "execution_count": 30,
     "metadata": {},
     "output_type": "execute_result"
    }
   ],
   "source": [
    "pd.DataFrame(preprocessing_results)"
   ]
  },
  {
   "cell_type": "markdown",
   "metadata": {},
   "source": [
    "## Greedy algorithm"
   ]
  },
  {
   "cell_type": "code",
   "execution_count": 31,
   "metadata": {},
   "outputs": [],
   "source": [
    "lp_results = {}"
   ]
  },
  {
   "cell_type": "code",
   "execution_count": 33,
   "metadata": {},
   "outputs": [],
   "source": [
    "pulp_solver = PuLPSolver(\n",
    "    K, \n",
    "    M,\n",
    "    N,\n",
    "    p,\n",
    "    data_3\n",
    ")\n",
    "\n",
    "t1 = time()\n",
    "pulp_solver.solve()\n",
    "t2 = time()\n",
    "\n",
    "lp_results['pulp'] = {\n",
    "    'runtime': t2-t1,\n",
    "    'data_rate' : pulp_solver.solution.objective.value()\n",
    "}"
   ]
  },
  {
   "cell_type": "code",
   "execution_count": 34,
   "metadata": {},
   "outputs": [],
   "source": [
    "solver = GreedySolver(\n",
    "    K, \n",
    "    M,\n",
    "    N,\n",
    "    p,\n",
    "    data_3\n",
    ")\n",
    "\n",
    "t1 = time()\n",
    "solver.solve(data_3)\n",
    "t2 = time()\n",
    "\n",
    "lp_results['greedy'] = {\n",
    "    'runtime': t2-t1,\n",
    "    'data_rate' : solver.solution.get_data_rate()\n",
    "}\n"
   ]
  },
  {
   "cell_type": "code",
   "execution_count": 35,
   "metadata": {},
   "outputs": [
    {
     "data": {
      "text/html": [
       "<div>\n",
       "<style scoped>\n",
       "    .dataframe tbody tr th:only-of-type {\n",
       "        vertical-align: middle;\n",
       "    }\n",
       "\n",
       "    .dataframe tbody tr th {\n",
       "        vertical-align: top;\n",
       "    }\n",
       "\n",
       "    .dataframe thead th {\n",
       "        text-align: right;\n",
       "    }\n",
       "</style>\n",
       "<table border=\"1\" class=\"dataframe\">\n",
       "  <thead>\n",
       "    <tr style=\"text-align: right;\">\n",
       "      <th></th>\n",
       "      <th>pulp</th>\n",
       "      <th>greedy</th>\n",
       "    </tr>\n",
       "  </thead>\n",
       "  <tbody>\n",
       "    <tr>\n",
       "      <th>runtime</th>\n",
       "      <td>0.112520</td>\n",
       "      <td>1.155703</td>\n",
       "    </tr>\n",
       "    <tr>\n",
       "      <th>data_rate</th>\n",
       "      <td>9870.321839</td>\n",
       "      <td>9870.321839</td>\n",
       "    </tr>\n",
       "  </tbody>\n",
       "</table>\n",
       "</div>"
      ],
      "text/plain": [
       "                  pulp       greedy\n",
       "runtime       0.112520     1.155703\n",
       "data_rate  9870.321839  9870.321839"
      ]
     },
     "execution_count": 35,
     "metadata": {},
     "output_type": "execute_result"
    }
   ],
   "source": [
    "pd.DataFrame(lp_results)"
   ]
  },
  {
   "cell_type": "code",
   "execution_count": null,
   "metadata": {},
   "outputs": [],
   "source": []
  },
  {
   "cell_type": "markdown",
   "metadata": {},
   "source": [
    "## Solutions to the ILP"
   ]
  },
  {
   "cell_type": "code",
   "execution_count": 36,
   "metadata": {},
   "outputs": [],
   "source": [
    "ilp_results = {}"
   ]
  },
  {
   "cell_type": "code",
   "execution_count": 37,
   "metadata": {},
   "outputs": [],
   "source": [
    "dp_solver = DPSolver(\n",
    "    K, \n",
    "    M,\n",
    "    N,\n",
    "    p,\n",
    "    data_3\n",
    ")\n",
    "\n",
    "t1 = time()\n",
    "dp_solver.solve(\n",
    "    None,\n",
    "    method = DPMethods.MAXIMIZE_R\n",
    ")\n",
    "t2 = time()\n",
    "ilp_results['DP_maximize_r'] = {\n",
    "    'runtime' : t2 - t1,\n",
    "    \"data_rate\" : dp_solver.solution.get_data_rate()\n",
    "}\n",
    "\n",
    "pulp_solver.solve()\n",
    "U = int(pulp_solver.solution.objective.value())\n",
    "\n",
    "t1 = time()\n",
    "dp_solver.solve(\n",
    "    None,\n",
    "    method = DPMethods.MINIMIZE_P,\n",
    "    U = U\n",
    ")\n",
    "t2 = time()\n",
    "\n",
    "ilp_results['DP_minimize_p'] = {\n",
    "    'runtime' : t2 - t1,\n",
    "    \"data_rate\" : dp_solver.solution.get_data_rate()\n",
    "}"
   ]
  },
  {
   "cell_type": "markdown",
   "metadata": {},
   "source": [
    "### Branch and Bound"
   ]
  },
  {
   "cell_type": "code",
   "execution_count": 38,
   "metadata": {},
   "outputs": [],
   "source": [
    "bb_solver = BBSolver(\n",
    "    K, \n",
    "    M,\n",
    "    N,\n",
    "    p,\n",
    "    data_3\n",
    ")"
   ]
  },
  {
   "cell_type": "code",
   "execution_count": 40,
   "metadata": {},
   "outputs": [
    {
     "ename": "KeyboardInterrupt",
     "evalue": "",
     "output_type": "error",
     "traceback": [
      "\u001b[0;31m---------------------------------------------------------------------------\u001b[0m",
      "\u001b[0;31mKeyboardInterrupt\u001b[0m                         Traceback (most recent call last)",
      "\u001b[1;32m/home/pedro/Desktop/Polytechnique/user-scheduling-in-5G/notebooks/tests/test_04.ipynb Cell 23\u001b[0m line \u001b[0;36m2\n\u001b[1;32m      <a href='vscode-notebook-cell:/home/pedro/Desktop/Polytechnique/user-scheduling-in-5G/notebooks/tests/test_04.ipynb#X32sZmlsZQ%3D%3D?line=0'>1</a>\u001b[0m t1 \u001b[39m=\u001b[39m time()\n\u001b[0;32m----> <a href='vscode-notebook-cell:/home/pedro/Desktop/Polytechnique/user-scheduling-in-5G/notebooks/tests/test_04.ipynb#X32sZmlsZQ%3D%3D?line=1'>2</a>\u001b[0m bb_solver\u001b[39m.\u001b[39;49msolve()\n\u001b[1;32m      <a href='vscode-notebook-cell:/home/pedro/Desktop/Polytechnique/user-scheduling-in-5G/notebooks/tests/test_04.ipynb#X32sZmlsZQ%3D%3D?line=2'>3</a>\u001b[0m t2 \u001b[39m=\u001b[39m time()\n\u001b[1;32m      <a href='vscode-notebook-cell:/home/pedro/Desktop/Polytechnique/user-scheduling-in-5G/notebooks/tests/test_04.ipynb#X32sZmlsZQ%3D%3D?line=4'>5</a>\u001b[0m ilp_results[\u001b[39m'\u001b[39m\u001b[39mBranch&Bound\u001b[39m\u001b[39m'\u001b[39m] \u001b[39m=\u001b[39m {\n\u001b[1;32m      <a href='vscode-notebook-cell:/home/pedro/Desktop/Polytechnique/user-scheduling-in-5G/notebooks/tests/test_04.ipynb#X32sZmlsZQ%3D%3D?line=5'>6</a>\u001b[0m     \u001b[39m'\u001b[39m\u001b[39mruntime\u001b[39m\u001b[39m'\u001b[39m : t2 \u001b[39m-\u001b[39m t1,\n\u001b[1;32m      <a href='vscode-notebook-cell:/home/pedro/Desktop/Polytechnique/user-scheduling-in-5G/notebooks/tests/test_04.ipynb#X32sZmlsZQ%3D%3D?line=6'>7</a>\u001b[0m     \u001b[39m\"\u001b[39m\u001b[39mdata_rate\u001b[39m\u001b[39m\"\u001b[39m : bb_solver\u001b[39m.\u001b[39mbest_rate\n\u001b[1;32m      <a href='vscode-notebook-cell:/home/pedro/Desktop/Polytechnique/user-scheduling-in-5G/notebooks/tests/test_04.ipynb#X32sZmlsZQ%3D%3D?line=7'>8</a>\u001b[0m }\n",
      "File \u001b[0;32m~/Desktop/Polytechnique/user-scheduling-in-5G/src/solvers/bb.py:44\u001b[0m, in \u001b[0;36mBBSolver.solve\u001b[0;34m(self, data)\u001b[0m\n\u001b[1;32m     36\u001b[0m \u001b[39mdef\u001b[39;00m \u001b[39msolve\u001b[39m(\u001b[39mself\u001b[39m, data \u001b[39m=\u001b[39m \u001b[39mNone\u001b[39;00m):\n\u001b[1;32m     37\u001b[0m     solver \u001b[39m=\u001b[39m PuLPSolver(\n\u001b[1;32m     38\u001b[0m         \u001b[39mself\u001b[39m\u001b[39m.\u001b[39mK,\n\u001b[1;32m     39\u001b[0m         \u001b[39mself\u001b[39m\u001b[39m.\u001b[39mM,\n\u001b[0;32m   (...)\u001b[0m\n\u001b[1;32m     42\u001b[0m         \u001b[39mself\u001b[39m\u001b[39m.\u001b[39mdata\n\u001b[1;32m     43\u001b[0m     )\n\u001b[0;32m---> 44\u001b[0m     \u001b[39mself\u001b[39;49m\u001b[39m.\u001b[39;49msolve_rec(\n\u001b[1;32m     45\u001b[0m         solver,\n\u001b[1;32m     46\u001b[0m         \u001b[39m0\u001b[39;49m,\n\u001b[1;32m     47\u001b[0m         \u001b[39mself\u001b[39;49m\u001b[39m.\u001b[39;49mp,\n\u001b[1;32m     48\u001b[0m         \u001b[39mself\u001b[39;49m\u001b[39m.\u001b[39;49mdata\n\u001b[1;32m     49\u001b[0m     )\n\u001b[1;32m     51\u001b[0m     \u001b[39mreturn\u001b[39;00m \u001b[39mself\u001b[39m\u001b[39m.\u001b[39mbest_rate\n",
      "File \u001b[0;32m~/Desktop/Polytechnique/user-scheduling-in-5G/src/solvers/bb.py:93\u001b[0m, in \u001b[0;36mBBSolver.solve_rec\u001b[0;34m(self, solver, n0, p, data)\u001b[0m\n\u001b[1;32m     90\u001b[0m x_kmn \u001b[39m=\u001b[39m solver\u001b[39m.\u001b[39mget_variable(k,m,n0)\n\u001b[1;32m     91\u001b[0m solver\u001b[39m.\u001b[39msolution\u001b[39m.\u001b[39maddConstraint(x_kmn \u001b[39m==\u001b[39m \u001b[39m1\u001b[39m)\n\u001b[0;32m---> 93\u001b[0m \u001b[39mself\u001b[39;49m\u001b[39m.\u001b[39;49msolve_rec(\n\u001b[1;32m     94\u001b[0m     solver,\n\u001b[1;32m     95\u001b[0m     n0\u001b[39m+\u001b[39;49m\u001b[39m1\u001b[39;49m,\n\u001b[1;32m     96\u001b[0m     p,\n\u001b[1;32m     97\u001b[0m     data\n\u001b[1;32m     98\u001b[0m )\n\u001b[1;32m    100\u001b[0m solver\u001b[39m.\u001b[39msolution\u001b[39m.\u001b[39mconstraints\u001b[39m.\u001b[39mpopitem(\u001b[39m-\u001b[39m\u001b[39m1\u001b[39m)\n",
      "File \u001b[0;32m~/Desktop/Polytechnique/user-scheduling-in-5G/src/solvers/bb.py:93\u001b[0m, in \u001b[0;36mBBSolver.solve_rec\u001b[0;34m(self, solver, n0, p, data)\u001b[0m\n\u001b[1;32m     90\u001b[0m x_kmn \u001b[39m=\u001b[39m solver\u001b[39m.\u001b[39mget_variable(k,m,n0)\n\u001b[1;32m     91\u001b[0m solver\u001b[39m.\u001b[39msolution\u001b[39m.\u001b[39maddConstraint(x_kmn \u001b[39m==\u001b[39m \u001b[39m1\u001b[39m)\n\u001b[0;32m---> 93\u001b[0m \u001b[39mself\u001b[39;49m\u001b[39m.\u001b[39;49msolve_rec(\n\u001b[1;32m     94\u001b[0m     solver,\n\u001b[1;32m     95\u001b[0m     n0\u001b[39m+\u001b[39;49m\u001b[39m1\u001b[39;49m,\n\u001b[1;32m     96\u001b[0m     p,\n\u001b[1;32m     97\u001b[0m     data\n\u001b[1;32m     98\u001b[0m )\n\u001b[1;32m    100\u001b[0m solver\u001b[39m.\u001b[39msolution\u001b[39m.\u001b[39mconstraints\u001b[39m.\u001b[39mpopitem(\u001b[39m-\u001b[39m\u001b[39m1\u001b[39m)\n",
      "    \u001b[0;31m[... skipping similar frames: BBSolver.solve_rec at line 93 (112 times)]\u001b[0m\n",
      "File \u001b[0;32m~/Desktop/Polytechnique/user-scheduling-in-5G/src/solvers/bb.py:93\u001b[0m, in \u001b[0;36mBBSolver.solve_rec\u001b[0;34m(self, solver, n0, p, data)\u001b[0m\n\u001b[1;32m     90\u001b[0m x_kmn \u001b[39m=\u001b[39m solver\u001b[39m.\u001b[39mget_variable(k,m,n0)\n\u001b[1;32m     91\u001b[0m solver\u001b[39m.\u001b[39msolution\u001b[39m.\u001b[39maddConstraint(x_kmn \u001b[39m==\u001b[39m \u001b[39m1\u001b[39m)\n\u001b[0;32m---> 93\u001b[0m \u001b[39mself\u001b[39;49m\u001b[39m.\u001b[39;49msolve_rec(\n\u001b[1;32m     94\u001b[0m     solver,\n\u001b[1;32m     95\u001b[0m     n0\u001b[39m+\u001b[39;49m\u001b[39m1\u001b[39;49m,\n\u001b[1;32m     96\u001b[0m     p,\n\u001b[1;32m     97\u001b[0m     data\n\u001b[1;32m     98\u001b[0m )\n\u001b[1;32m    100\u001b[0m solver\u001b[39m.\u001b[39msolution\u001b[39m.\u001b[39mconstraints\u001b[39m.\u001b[39mpopitem(\u001b[39m-\u001b[39m\u001b[39m1\u001b[39m)\n",
      "File \u001b[0;32m~/Desktop/Polytechnique/user-scheduling-in-5G/src/solvers/bb.py:61\u001b[0m, in \u001b[0;36mBBSolver.solve_rec\u001b[0;34m(self, solver, n0, p, data)\u001b[0m\n\u001b[1;32m     53\u001b[0m \u001b[39mdef\u001b[39;00m \u001b[39msolve_rec\u001b[39m(\n\u001b[1;32m     54\u001b[0m     \u001b[39mself\u001b[39m,\n\u001b[1;32m     55\u001b[0m     solver : PuLPSolver, \n\u001b[0;32m   (...)\u001b[0m\n\u001b[1;32m     58\u001b[0m     data : Dict[\u001b[39mint\u001b[39m, pd\u001b[39m.\u001b[39mDataFrame]\n\u001b[1;32m     59\u001b[0m ):\n\u001b[0;32m---> 61\u001b[0m     solver\u001b[39m.\u001b[39;49msolve()\n\u001b[1;32m     63\u001b[0m     \u001b[39mif\u001b[39;00m n0 \u001b[39m==\u001b[39m \u001b[39mself\u001b[39m\u001b[39m.\u001b[39mN\u001b[39m-\u001b[39m\u001b[39m1\u001b[39m:\n\u001b[1;32m     64\u001b[0m         data_rate \u001b[39m=\u001b[39msolver\u001b[39m.\u001b[39msolution\u001b[39m.\u001b[39mobjective\u001b[39m.\u001b[39mvalue()\n",
      "File \u001b[0;32m~/Desktop/Polytechnique/user-scheduling-in-5G/src/solvers/pulp_solver.py:80\u001b[0m, in \u001b[0;36mPuLPSolver.solve\u001b[0;34m(self, data)\u001b[0m\n\u001b[1;32m     79\u001b[0m \u001b[39mdef\u001b[39;00m \u001b[39msolve\u001b[39m(\u001b[39mself\u001b[39m, data \u001b[39m=\u001b[39m \u001b[39mNone\u001b[39;00m):\n\u001b[0;32m---> 80\u001b[0m     \u001b[39mself\u001b[39;49m\u001b[39m.\u001b[39;49msolution\u001b[39m.\u001b[39;49msolve(PULP_CBC_CMD(msg\u001b[39m=\u001b[39;49m\u001b[39m0\u001b[39;49m))\n",
      "File \u001b[0;32m~/anaconda3/envs/user-scheduling-in-5g/lib/python3.12/site-packages/pulp/pulp.py:1883\u001b[0m, in \u001b[0;36mLpProblem.solve\u001b[0;34m(self, solver, **kwargs)\u001b[0m\n\u001b[1;32m   1881\u001b[0m \u001b[39m# time it\u001b[39;00m\n\u001b[1;32m   1882\u001b[0m \u001b[39mself\u001b[39m\u001b[39m.\u001b[39mstartClock()\n\u001b[0;32m-> 1883\u001b[0m status \u001b[39m=\u001b[39m solver\u001b[39m.\u001b[39;49mactualSolve(\u001b[39mself\u001b[39;49m, \u001b[39m*\u001b[39;49m\u001b[39m*\u001b[39;49mkwargs)\n\u001b[1;32m   1884\u001b[0m \u001b[39mself\u001b[39m\u001b[39m.\u001b[39mstopClock()\n\u001b[1;32m   1885\u001b[0m \u001b[39mself\u001b[39m\u001b[39m.\u001b[39mrestoreObjective(wasNone, dummyVar)\n",
      "File \u001b[0;32m~/anaconda3/envs/user-scheduling-in-5g/lib/python3.12/site-packages/pulp/apis/coin_api.py:112\u001b[0m, in \u001b[0;36mCOIN_CMD.actualSolve\u001b[0;34m(self, lp, **kwargs)\u001b[0m\n\u001b[1;32m    110\u001b[0m \u001b[39mdef\u001b[39;00m \u001b[39mactualSolve\u001b[39m(\u001b[39mself\u001b[39m, lp, \u001b[39m*\u001b[39m\u001b[39m*\u001b[39mkwargs):\n\u001b[1;32m    111\u001b[0m \u001b[39m    \u001b[39m\u001b[39m\"\"\"Solve a well formulated lp problem\"\"\"\u001b[39;00m\n\u001b[0;32m--> 112\u001b[0m     \u001b[39mreturn\u001b[39;00m \u001b[39mself\u001b[39;49m\u001b[39m.\u001b[39;49msolve_CBC(lp, \u001b[39m*\u001b[39;49m\u001b[39m*\u001b[39;49mkwargs)\n",
      "File \u001b[0;32m~/anaconda3/envs/user-scheduling-in-5g/lib/python3.12/site-packages/pulp/apis/coin_api.py:140\u001b[0m, in \u001b[0;36mCOIN_CMD.solve_CBC\u001b[0;34m(self, lp, use_mps)\u001b[0m\n\u001b[1;32m    138\u001b[0m     constraintsNames \u001b[39m=\u001b[39m {c: c \u001b[39mfor\u001b[39;00m c \u001b[39min\u001b[39;00m lp\u001b[39m.\u001b[39mconstraints}\n\u001b[1;32m    139\u001b[0m     cmds \u001b[39m=\u001b[39m \u001b[39m\"\u001b[39m\u001b[39m \u001b[39m\u001b[39m\"\u001b[39m \u001b[39m+\u001b[39m tmpLp \u001b[39m+\u001b[39m \u001b[39m\"\u001b[39m\u001b[39m \u001b[39m\u001b[39m\"\u001b[39m\n\u001b[0;32m--> 140\u001b[0m \u001b[39mif\u001b[39;00m \u001b[39mself\u001b[39;49m\u001b[39m.\u001b[39;49moptionsDict\u001b[39m.\u001b[39;49mget(\u001b[39m\"\u001b[39;49m\u001b[39mwarmStart\u001b[39;49m\u001b[39m\"\u001b[39;49m, \u001b[39mFalse\u001b[39;49;00m):\n\u001b[1;32m    141\u001b[0m     \u001b[39mself\u001b[39m\u001b[39m.\u001b[39mwritesol(tmpMst, lp, vs, variablesNames, constraintsNames)\n\u001b[1;32m    142\u001b[0m     cmds \u001b[39m+\u001b[39m\u001b[39m=\u001b[39m \u001b[39mf\u001b[39m\u001b[39m\"\u001b[39m\u001b[39m-mips \u001b[39m\u001b[39m{\u001b[39;00mtmpMst\u001b[39m}\u001b[39;00m\u001b[39m \u001b[39m\u001b[39m\"\u001b[39m\n",
      "\u001b[0;31mKeyboardInterrupt\u001b[0m: "
     ]
    }
   ],
   "source": [
    "t1 = time()\n",
    "bb_solver.solve()\n",
    "t2 = time()\n",
    "\n",
    "ilp_results['Branch&Bound'] = {\n",
    "    'runtime' : t2 - t1,\n",
    "    \"data_rate\" : bb_solver.best_rate\n",
    "}"
   ]
  },
  {
   "cell_type": "code",
   "execution_count": 41,
   "metadata": {},
   "outputs": [
    {
     "data": {
      "text/html": [
       "<div>\n",
       "<style scoped>\n",
       "    .dataframe tbody tr th:only-of-type {\n",
       "        vertical-align: middle;\n",
       "    }\n",
       "\n",
       "    .dataframe tbody tr th {\n",
       "        vertical-align: top;\n",
       "    }\n",
       "\n",
       "    .dataframe thead th {\n",
       "        text-align: right;\n",
       "    }\n",
       "</style>\n",
       "<table border=\"1\" class=\"dataframe\">\n",
       "  <thead>\n",
       "    <tr style=\"text-align: right;\">\n",
       "      <th></th>\n",
       "      <th>DP_maximize_r</th>\n",
       "      <th>DP_minimize_p</th>\n",
       "    </tr>\n",
       "  </thead>\n",
       "  <tbody>\n",
       "    <tr>\n",
       "      <th>runtime</th>\n",
       "      <td>81.193411</td>\n",
       "      <td>40.678555</td>\n",
       "    </tr>\n",
       "    <tr>\n",
       "      <th>data_rate</th>\n",
       "      <td>9870.000000</td>\n",
       "      <td>9870.000000</td>\n",
       "    </tr>\n",
       "  </tbody>\n",
       "</table>\n",
       "</div>"
      ],
      "text/plain": [
       "           DP_maximize_r  DP_minimize_p\n",
       "runtime        81.193411      40.678555\n",
       "data_rate    9870.000000    9870.000000"
      ]
     },
     "execution_count": 41,
     "metadata": {},
     "output_type": "execute_result"
    }
   ],
   "source": [
    "pd.DataFrame(ilp_results)"
   ]
  },
  {
   "cell_type": "code",
   "execution_count": null,
   "metadata": {},
   "outputs": [],
   "source": []
  }
 ],
 "metadata": {
  "kernelspec": {
   "display_name": "user-scheduling-in-5g",
   "language": "python",
   "name": "python3"
  },
  "language_info": {
   "codemirror_mode": {
    "name": "ipython",
    "version": 3
   },
   "file_extension": ".py",
   "mimetype": "text/x-python",
   "name": "python",
   "nbconvert_exporter": "python",
   "pygments_lexer": "ipython3",
   "version": "3.12.1"
  }
 },
 "nbformat": 4,
 "nbformat_minor": 2
}
