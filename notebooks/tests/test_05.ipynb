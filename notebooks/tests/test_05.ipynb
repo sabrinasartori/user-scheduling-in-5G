{
 "cells": [
  {
   "cell_type": "code",
   "execution_count": 1,
   "metadata": {},
   "outputs": [],
   "source": [
    "%load_ext autoreload\n",
    "%autoreload 2"
   ]
  },
  {
   "cell_type": "code",
   "execution_count": 2,
   "metadata": {},
   "outputs": [
    {
     "name": "stderr",
     "output_type": "stream",
     "text": [
      "/tmp/ipykernel_411035/2326566885.py:1: DeprecationWarning: \n",
      "Pyarrow will become a required dependency of pandas in the next major release of pandas (pandas 3.0),\n",
      "(to allow more performant data types, such as the Arrow string type, and better interoperability with other libraries)\n",
      "but was not found to be installed on your system.\n",
      "If this would cause problems for you,\n",
      "please provide us feedback at https://github.com/pandas-dev/pandas/issues/54466\n",
      "        \n",
      "  import pandas as pd\n"
     ]
    }
   ],
   "source": [
    "import pandas as pd\n",
    "import matplotlib.pyplot as plt\n",
    "import numpy as np\n",
    "import os\n",
    "from pulp import *\n",
    "from copy import deepcopy\n",
    "while \"notebooks\" in os.getcwd():\n",
    "    os.chdir(\"..\")\n",
    "\n",
    "from src.preprocessing.parser import Parser\n",
    "from src.preprocessing.preprocessor import Preprocessor\n",
    "from src.solvers.solution import Solution\n",
    "from src.solvers.greedy import GreedySolver\n",
    "from src.solvers.pulp_solver import PuLPSolver\n",
    "from src.solvers.dp import DPSolver\n",
    "from src.solvers.base_solver import DPMethods\n",
    "\n",
    "from time import time\n",
    "from tqdm import tqdm\n",
    "from typing import Dict"
   ]
  },
  {
   "cell_type": "code",
   "execution_count": null,
   "metadata": {},
   "outputs": [],
   "source": []
  },
  {
   "cell_type": "code",
   "execution_count": 3,
   "metadata": {},
   "outputs": [],
   "source": [
    "def get_num_triples(dataset : Dict):\n",
    "    num_triples= 0\n",
    "    for n in dataset.keys():\n",
    "        num_triples += len(dataset[n])\n",
    "    \n",
    "    return num_triples"
   ]
  },
  {
   "cell_type": "markdown",
   "metadata": {},
   "source": [
    "## Test 05"
   ]
  },
  {
   "cell_type": "code",
   "execution_count": 4,
   "metadata": {},
   "outputs": [],
   "source": [
    "parser = Parser(\"data/testfiles/test5.txt\")"
   ]
  },
  {
   "cell_type": "code",
   "execution_count": 5,
   "metadata": {},
   "outputs": [
    {
     "name": "stderr",
     "output_type": "stream",
     "text": [
      "1204it [00:00, 118445.93it/s]\n"
     ]
    },
    {
     "name": "stdout",
     "output_type": "stream",
     "text": [
      "Total execution time 0.23374509811401367 s\n"
     ]
    }
   ],
   "source": [
    "t0 = time()\n",
    "info = parser.read()\n",
    "t1 = time()\n",
    "\n",
    "print(f\"Total execution time {t1 - t0} s\")"
   ]
  },
  {
   "cell_type": "code",
   "execution_count": 6,
   "metadata": {},
   "outputs": [],
   "source": [
    "dataset : Dict[int, pd.DataFrame ]= info['data']\n",
    "p, K, M, N = info['p'], info['K'], info['M'], info['N']"
   ]
  },
  {
   "cell_type": "code",
   "execution_count": null,
   "metadata": {},
   "outputs": [],
   "source": []
  },
  {
   "cell_type": "code",
   "execution_count": 7,
   "metadata": {},
   "outputs": [
    {
     "name": "stderr",
     "output_type": "stream",
     "text": [
      "100%|██████████| 40/40 [00:00<00:00, 7141.37it/s]\n"
     ]
    },
    {
     "name": "stderr",
     "output_type": "stream",
     "text": [
      "100%|██████████| 40/40 [00:00<00:00, 40.40it/s]\n",
      "100%|██████████| 40/40 [00:00<00:00, 354.99it/s]\n"
     ]
    }
   ],
   "source": [
    "preprocessing_results = {}\n",
    "preprocessor = Preprocessor(\n",
    "    K, \n",
    "    M,\n",
    "    N,\n",
    "    p,\n",
    "    dataset\n",
    ")\n",
    "\n",
    "t0 = time()\n",
    "\n",
    "data_1 = preprocessor.remove_trivial_values()\n",
    "t1 = time()\n",
    "\n",
    "preprocessing_results['remove trivial values'] = {\n",
    "    \"runtime\": (t1 - t0),\n",
    "    \"num_triples\": get_num_triples(data_1)\n",
    "}\n",
    "t1 = time()\n",
    "\n",
    "data_2 = preprocessor.remove_ip_dominated(dataset)\n",
    "t2 = time()\n",
    "preprocessing_results['remove IP dominated'] = {\n",
    "    \"runtime\": t2-t1,\n",
    "    \"num_triples\": get_num_triples(data_2)\n",
    "}\n",
    "t2 = time()\n",
    "\n",
    "data_3 = preprocessor.remove_lp_dominated(data_2)\n",
    "t3 = time()\n",
    "preprocessing_results['remove LP dominated'] = {\n",
    "    \"runtime\": t3-t2,\n",
    "    \"num_triples\": get_num_triples(data_3)\n",
    "}\n"
   ]
  },
  {
   "cell_type": "code",
   "execution_count": 8,
   "metadata": {},
   "outputs": [
    {
     "data": {
      "text/html": [
       "<div>\n",
       "<style scoped>\n",
       "    .dataframe tbody tr th:only-of-type {\n",
       "        vertical-align: middle;\n",
       "    }\n",
       "\n",
       "    .dataframe tbody tr th {\n",
       "        vertical-align: top;\n",
       "    }\n",
       "\n",
       "    .dataframe thead th {\n",
       "        text-align: right;\n",
       "    }\n",
       "</style>\n",
       "<table border=\"1\" class=\"dataframe\">\n",
       "  <thead>\n",
       "    <tr style=\"text-align: right;\">\n",
       "      <th></th>\n",
       "      <th>remove trivial values</th>\n",
       "      <th>remove IP dominated</th>\n",
       "      <th>remove LP dominated</th>\n",
       "    </tr>\n",
       "  </thead>\n",
       "  <tbody>\n",
       "    <tr>\n",
       "      <th>runtime</th>\n",
       "      <td>0.440886</td>\n",
       "      <td>0.995682</td>\n",
       "      <td>0.410841</td>\n",
       "    </tr>\n",
       "    <tr>\n",
       "      <th>num_triples</th>\n",
       "      <td>1954.000000</td>\n",
       "      <td>329.000000</td>\n",
       "      <td>193.000000</td>\n",
       "    </tr>\n",
       "  </tbody>\n",
       "</table>\n",
       "</div>"
      ],
      "text/plain": [
       "             remove trivial values  remove IP dominated  remove LP dominated\n",
       "runtime                   0.440886             0.995682             0.410841\n",
       "num_triples            1954.000000           329.000000           193.000000"
      ]
     },
     "execution_count": 8,
     "metadata": {},
     "output_type": "execute_result"
    }
   ],
   "source": [
    "pd.DataFrame(preprocessing_results)"
   ]
  },
  {
   "cell_type": "markdown",
   "metadata": {},
   "source": [
    "## Greedy algorithm"
   ]
  },
  {
   "cell_type": "code",
   "execution_count": 9,
   "metadata": {},
   "outputs": [],
   "source": [
    "lp_results = {}"
   ]
  },
  {
   "cell_type": "code",
   "execution_count": 10,
   "metadata": {},
   "outputs": [
    {
     "name": "stdout",
     "output_type": "stream",
     "text": [
      "Welcome to the CBC MILP Solver \n",
      "Version: 2.10.3 \n",
      "Build Date: Dec 15 2019 \n",
      "\n",
      "command line - /home/pedro/anaconda3/envs/user-scheduling-in-5g/lib/python3.12/site-packages/pulp/solverdir/cbc/linux/64/cbc /tmp/6f1618cbee68414b910bd23f7de00ea5-pulp.mps -max -timeMode elapsed -branch -printingOptions all -solution /tmp/6f1618cbee68414b910bd23f7de00ea5-pulp.sol (default strategy 1)\n",
      "At line 2 NAME          MODEL\n",
      "At line 3 ROWS\n",
      "At line 46 COLUMNS\n",
      "At line 626 RHS\n",
      "At line 668 BOUNDS\n",
      "At line 862 ENDATA\n",
      "Problem MODEL has 41 rows, 193 columns and 386 elements\n",
      "Coin0008I MODEL read with 0 errors\n",
      "Option for timeMode changed from cpu to elapsed\n",
      "Presolve 41 (0) rows, 193 (0) columns and 386 (0) elements\n",
      "0  Obj -0 Primal inf 63.67607 (40) Dual inf 12876.888 (193)\n",
      "30  Obj 1637\n",
      "Optimal - objective value 1637\n",
      "Optimal objective 1637 - 30 iterations time 0.002\n",
      "Option for printingOptions changed from normal to all\n",
      "Total time (CPU seconds):       0.00   (Wallclock seconds):       0.00\n",
      "\n"
     ]
    }
   ],
   "source": [
    "pulp_solver = PuLPSolver(\n",
    "    K, \n",
    "    M,\n",
    "    N,\n",
    "    p,\n",
    "    data_3\n",
    ")\n",
    "\n",
    "t1 = time()\n",
    "pulp_solver.solve()\n",
    "t2 = time()\n",
    "\n",
    "lp_results['pulp'] = {\n",
    "    'runtime': t2-t1,\n",
    "    'data_rate' : pulp_solver.solution.objective.value()\n",
    "}"
   ]
  },
  {
   "cell_type": "code",
   "execution_count": 11,
   "metadata": {},
   "outputs": [],
   "source": [
    "solver = GreedySolver(\n",
    "    K, \n",
    "    M,\n",
    "    N,\n",
    "    p,\n",
    "    data_3\n",
    ")\n",
    "\n",
    "t1 = time()\n",
    "solver.solve(data_3)\n",
    "t2 = time()\n",
    "\n",
    "lp_results['greedy'] = {\n",
    "    'runtime': t2-t1,\n",
    "    'data_rate' : solver.solution.get_data_rate()\n",
    "}\n"
   ]
  },
  {
   "cell_type": "code",
   "execution_count": 12,
   "metadata": {},
   "outputs": [
    {
     "data": {
      "text/html": [
       "<div>\n",
       "<style scoped>\n",
       "    .dataframe tbody tr th:only-of-type {\n",
       "        vertical-align: middle;\n",
       "    }\n",
       "\n",
       "    .dataframe tbody tr th {\n",
       "        vertical-align: top;\n",
       "    }\n",
       "\n",
       "    .dataframe thead th {\n",
       "        text-align: right;\n",
       "    }\n",
       "</style>\n",
       "<table border=\"1\" class=\"dataframe\">\n",
       "  <thead>\n",
       "    <tr style=\"text-align: right;\">\n",
       "      <th></th>\n",
       "      <th>pulp</th>\n",
       "      <th>greedy</th>\n",
       "    </tr>\n",
       "  </thead>\n",
       "  <tbody>\n",
       "    <tr>\n",
       "      <th>runtime</th>\n",
       "      <td>0.011698</td>\n",
       "      <td>0.151701</td>\n",
       "    </tr>\n",
       "    <tr>\n",
       "      <th>data_rate</th>\n",
       "      <td>1637.000000</td>\n",
       "      <td>1637.000000</td>\n",
       "    </tr>\n",
       "  </tbody>\n",
       "</table>\n",
       "</div>"
      ],
      "text/plain": [
       "                  pulp       greedy\n",
       "runtime       0.011698     0.151701\n",
       "data_rate  1637.000000  1637.000000"
      ]
     },
     "execution_count": 12,
     "metadata": {},
     "output_type": "execute_result"
    }
   ],
   "source": [
    "pd.DataFrame(lp_results)"
   ]
  },
  {
   "cell_type": "code",
   "execution_count": null,
   "metadata": {},
   "outputs": [],
   "source": []
  },
  {
   "cell_type": "markdown",
   "metadata": {},
   "source": [
    "## Solutions to the ILP"
   ]
  },
  {
   "cell_type": "code",
   "execution_count": 13,
   "metadata": {},
   "outputs": [],
   "source": [
    "ilp_results = {}"
   ]
  },
  {
   "cell_type": "code",
   "execution_count": 14,
   "metadata": {},
   "outputs": [
    {
     "name": "stdout",
     "output_type": "stream",
     "text": [
      "Welcome to the CBC MILP Solver \n",
      "Version: 2.10.3 \n",
      "Build Date: Dec 15 2019 \n",
      "\n",
      "command line - /home/pedro/anaconda3/envs/user-scheduling-in-5g/lib/python3.12/site-packages/pulp/solverdir/cbc/linux/64/cbc /tmp/1ed826a5cf77459ebdafa4fa5d6a9817-pulp.mps -max -timeMode elapsed -branch -printingOptions all -solution /tmp/1ed826a5cf77459ebdafa4fa5d6a9817-pulp.sol (default strategy 1)\n",
      "At line 2 NAME          MODEL\n",
      "At line 3 ROWS\n",
      "At line 46 COLUMNS\n",
      "At line 626 RHS\n",
      "At line 668 BOUNDS\n",
      "At line 862 ENDATA\n",
      "Problem MODEL has 41 rows, 193 columns and 386 elements\n",
      "Coin0008I MODEL read with 0 errors\n",
      "Option for timeMode changed from cpu to elapsed\n",
      "Presolve 41 (0) rows, 193 (0) columns and 386 (0) elements\n",
      "0  Obj -0 Primal inf 63.67607 (40) Dual inf 12876.888 (193)\n",
      "30  Obj 1637\n",
      "Optimal - objective value 1637\n",
      "Optimal objective 1637 - 30 iterations time 0.002\n",
      "Option for printingOptions changed from normal to all\n",
      "Total time (CPU seconds):       0.00   (Wallclock seconds):       0.00\n",
      "\n"
     ]
    }
   ],
   "source": [
    "dp_solver = DPSolver(\n",
    "    K, \n",
    "    M,\n",
    "    N,\n",
    "    p,\n",
    "    data_3\n",
    ")\n",
    "\n",
    "t1 = time()\n",
    "dp_solver.solve(\n",
    "    None,\n",
    "    method = DPMethods.MAXIMIZE_R\n",
    ")\n",
    "t2 = time()\n",
    "ilp_results['DP_maximize_r'] = {\n",
    "    'runtime' : t2 - t1,\n",
    "    \"data_rate\" : dp_solver.solution.get_data_rate()\n",
    "}\n",
    "\n",
    "pulp_solver.solve()\n",
    "U = int(pulp_solver.solution.objective.value())\n",
    "\n",
    "t1 = time()\n",
    "dp_solver.solve(\n",
    "    None,\n",
    "    method = DPMethods.MINIMIZE_P,\n",
    "    U = U\n",
    ")\n",
    "t2 = time()\n",
    "\n",
    "ilp_results['DP_minimize_p'] = {\n",
    "    'runtime' : t2 - t1,\n",
    "    \"data_rate\" : dp_solver.solution.get_data_rate()\n",
    "}"
   ]
  },
  {
   "cell_type": "code",
   "execution_count": 15,
   "metadata": {},
   "outputs": [
    {
     "data": {
      "text/html": [
       "<div>\n",
       "<style scoped>\n",
       "    .dataframe tbody tr th:only-of-type {\n",
       "        vertical-align: middle;\n",
       "    }\n",
       "\n",
       "    .dataframe tbody tr th {\n",
       "        vertical-align: top;\n",
       "    }\n",
       "\n",
       "    .dataframe thead th {\n",
       "        text-align: right;\n",
       "    }\n",
       "</style>\n",
       "<table border=\"1\" class=\"dataframe\">\n",
       "  <thead>\n",
       "    <tr style=\"text-align: right;\">\n",
       "      <th></th>\n",
       "      <th>DP_maximize_r</th>\n",
       "      <th>DP_minimize_p</th>\n",
       "    </tr>\n",
       "  </thead>\n",
       "  <tbody>\n",
       "    <tr>\n",
       "      <th>runtime</th>\n",
       "      <td>0.18046</td>\n",
       "      <td>0.23112</td>\n",
       "    </tr>\n",
       "    <tr>\n",
       "      <th>data_rate</th>\n",
       "      <td>1637.00000</td>\n",
       "      <td>1637.00000</td>\n",
       "    </tr>\n",
       "  </tbody>\n",
       "</table>\n",
       "</div>"
      ],
      "text/plain": [
       "           DP_maximize_r  DP_minimize_p\n",
       "runtime          0.18046        0.23112\n",
       "data_rate     1637.00000     1637.00000"
      ]
     },
     "execution_count": 15,
     "metadata": {},
     "output_type": "execute_result"
    }
   ],
   "source": [
    "pd.DataFrame(ilp_results)"
   ]
  }
 ],
 "metadata": {
  "kernelspec": {
   "display_name": "user-scheduling-in-5g",
   "language": "python",
   "name": "python3"
  },
  "language_info": {
   "codemirror_mode": {
    "name": "ipython",
    "version": 3
   },
   "file_extension": ".py",
   "mimetype": "text/x-python",
   "name": "python",
   "nbconvert_exporter": "python",
   "pygments_lexer": "ipython3",
   "version": "3.12.1"
  }
 },
 "nbformat": 4,
 "nbformat_minor": 2
}
