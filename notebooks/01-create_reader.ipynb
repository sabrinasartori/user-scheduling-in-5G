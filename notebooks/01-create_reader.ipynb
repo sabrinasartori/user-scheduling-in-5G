{
 "cells": [
  {
   "cell_type": "code",
   "execution_count": 1,
   "metadata": {},
   "outputs": [],
   "source": [
    "%load_ext autoreload\n",
    "%autoreload 2"
   ]
  },
  {
   "cell_type": "code",
   "execution_count": 3,
   "metadata": {},
   "outputs": [],
   "source": [
    "import pandas as pd\n",
    "import matplotlib.pyplot as plt\n",
    "import numpy as np\n",
    "import os\n",
    "while \"notebooks\" in os.getcwd():\n",
    "    os.chdir(\"..\")\n",
    "\n",
    "from src.preprocessing.parser import Parser\n",
    "\n",
    "\n",
    "from typing import Dict"
   ]
  },
  {
   "cell_type": "code",
   "execution_count": 23,
   "metadata": {},
   "outputs": [],
   "source": [
    "filename = \"data/testfiles/test1.txt\"\n",
    "M : int = None\n",
    "N : int = None\n",
    "K : int = None\n",
    "p : float = None\n",
    "\n",
    "data : Dict[int, pd.DataFrame] = {}\n",
    "tmp = {}\n",
    "\n",
    "with open(filename, 'r') as file:\n",
    "    n,k = 0,0\n",
    "    for idx, line in enumerate(file):\n",
    "        numbers = [float(valor) for valor in line.split()]\n",
    "\n",
    "        if idx >= 4:\n",
    "\n",
    "            if k == K:\n",
    "                k = 0\n",
    "\n",
    "                n+=1\n",
    "                if n == N:\n",
    "                    n = 0\n",
    "\n",
    "\n",
    "            for m in range(M):\n",
    "                key = tuple([k,m])\n",
    "\n",
    "                if data[n].get(key) is None:\n",
    "                    data[n][key] = [numbers[m]]\n",
    "                \n",
    "                else:\n",
    "                    data[n][key].append(numbers[m])\n",
    "            k+=1\n",
    "\n",
    "        elif idx == 0:\n",
    "            N = int(numbers[0])\n",
    "\n",
    "        elif idx == 1:  \n",
    "            M = int(numbers[0])\n",
    "\n",
    "        elif idx == 2:\n",
    "            K = int(numbers[0])\n",
    "        \n",
    "        else: #if idx == 3\n",
    "            p = numbers[0]\n",
    "            for i in range(N):\n",
    "                data[i] = {}\n"
   ]
  },
  {
   "cell_type": "code",
   "execution_count": 5,
   "metadata": {},
   "outputs": [
    {
     "data": {
      "text/plain": [
       "2"
      ]
     },
     "execution_count": 5,
     "metadata": {},
     "output_type": "execute_result"
    }
   ],
   "source": [
    "M"
   ]
  },
  {
   "cell_type": "code",
   "execution_count": 24,
   "metadata": {},
   "outputs": [
    {
     "data": {
      "text/plain": [
       "{0: {(0, 0): [1.0, 65.0],\n",
       "  (0, 1): [12.0, 98.0],\n",
       "  (1, 0): [19.0, 62.0],\n",
       "  (1, 1): [35.0, 90.0],\n",
       "  (2, 0): [37.0, 23.0],\n",
       "  (2, 1): [50.0, 95.0]},\n",
       " 1: {(0, 0): [20.0, 49.0],\n",
       "  (0, 1): [50.0, 54.0],\n",
       "  (1, 0): [16.0, 76.0],\n",
       "  (1, 1): [17.0, 81.0],\n",
       "  (2, 0): [1.0, 50.0],\n",
       "  (2, 1): [7.0, 85.0]},\n",
       " 2: {(0, 0): [13.0, 24.0],\n",
       "  (0, 1): [36.0, 86.0],\n",
       "  (1, 0): [34.0, 41.0],\n",
       "  (1, 1): [46.0, 62.0],\n",
       "  (2, 0): [1.0, 63.0],\n",
       "  (2, 1): [27.0, 87.0]},\n",
       " 3: {(0, 0): [16.0, 15.0],\n",
       "  (0, 1): [28.0, 56.0],\n",
       "  (1, 0): [1.0, 13.0],\n",
       "  (1, 1): [32.0, 95.0],\n",
       "  (2, 0): [35.0, 41.0],\n",
       "  (2, 1): [43.0, 42.0]}}"
      ]
     },
     "execution_count": 24,
     "metadata": {},
     "output_type": "execute_result"
    }
   ],
   "source": [
    "data"
   ]
  },
  {
   "cell_type": "code",
   "execution_count": 28,
   "metadata": {},
   "outputs": [],
   "source": [
    "df = pd.Series(data[0]).reset_index()\\\n",
    "    .rename(columns={\n",
    "        \"level_0\": \"k\",\n",
    "        \"level_1\" : \"m\",\n",
    "    })"
   ]
  },
  {
   "cell_type": "code",
   "execution_count": 31,
   "metadata": {},
   "outputs": [
    {
     "data": {
      "text/html": [
       "<div>\n",
       "<style scoped>\n",
       "    .dataframe tbody tr th:only-of-type {\n",
       "        vertical-align: middle;\n",
       "    }\n",
       "\n",
       "    .dataframe tbody tr th {\n",
       "        vertical-align: top;\n",
       "    }\n",
       "\n",
       "    .dataframe thead th {\n",
       "        text-align: right;\n",
       "    }\n",
       "</style>\n",
       "<table border=\"1\" class=\"dataframe\">\n",
       "  <thead>\n",
       "    <tr style=\"text-align: right;\">\n",
       "      <th></th>\n",
       "      <th></th>\n",
       "      <th>0</th>\n",
       "      <th>1</th>\n",
       "      <th>2</th>\n",
       "      <th>3</th>\n",
       "    </tr>\n",
       "  </thead>\n",
       "  <tbody>\n",
       "    <tr>\n",
       "      <th rowspan=\"2\" valign=\"top\">0</th>\n",
       "      <th>0</th>\n",
       "      <td>[1.0, 65.0]</td>\n",
       "      <td>[20.0, 49.0]</td>\n",
       "      <td>[13.0, 24.0]</td>\n",
       "      <td>[16.0, 15.0]</td>\n",
       "    </tr>\n",
       "    <tr>\n",
       "      <th>1</th>\n",
       "      <td>[12.0, 98.0]</td>\n",
       "      <td>[50.0, 54.0]</td>\n",
       "      <td>[36.0, 86.0]</td>\n",
       "      <td>[28.0, 56.0]</td>\n",
       "    </tr>\n",
       "    <tr>\n",
       "      <th rowspan=\"2\" valign=\"top\">1</th>\n",
       "      <th>0</th>\n",
       "      <td>[19.0, 62.0]</td>\n",
       "      <td>[16.0, 76.0]</td>\n",
       "      <td>[34.0, 41.0]</td>\n",
       "      <td>[1.0, 13.0]</td>\n",
       "    </tr>\n",
       "    <tr>\n",
       "      <th>1</th>\n",
       "      <td>[35.0, 90.0]</td>\n",
       "      <td>[17.0, 81.0]</td>\n",
       "      <td>[46.0, 62.0]</td>\n",
       "      <td>[32.0, 95.0]</td>\n",
       "    </tr>\n",
       "    <tr>\n",
       "      <th rowspan=\"2\" valign=\"top\">2</th>\n",
       "      <th>0</th>\n",
       "      <td>[37.0, 23.0]</td>\n",
       "      <td>[1.0, 50.0]</td>\n",
       "      <td>[1.0, 63.0]</td>\n",
       "      <td>[35.0, 41.0]</td>\n",
       "    </tr>\n",
       "    <tr>\n",
       "      <th>1</th>\n",
       "      <td>[50.0, 95.0]</td>\n",
       "      <td>[7.0, 85.0]</td>\n",
       "      <td>[27.0, 87.0]</td>\n",
       "      <td>[43.0, 42.0]</td>\n",
       "    </tr>\n",
       "  </tbody>\n",
       "</table>\n",
       "</div>"
      ],
      "text/plain": [
       "                0             1             2             3\n",
       "0 0   [1.0, 65.0]  [20.0, 49.0]  [13.0, 24.0]  [16.0, 15.0]\n",
       "  1  [12.0, 98.0]  [50.0, 54.0]  [36.0, 86.0]  [28.0, 56.0]\n",
       "1 0  [19.0, 62.0]  [16.0, 76.0]  [34.0, 41.0]   [1.0, 13.0]\n",
       "  1  [35.0, 90.0]  [17.0, 81.0]  [46.0, 62.0]  [32.0, 95.0]\n",
       "2 0  [37.0, 23.0]   [1.0, 50.0]   [1.0, 63.0]  [35.0, 41.0]\n",
       "  1  [50.0, 95.0]   [7.0, 85.0]  [27.0, 87.0]  [43.0, 42.0]"
      ]
     },
     "execution_count": 31,
     "metadata": {},
     "output_type": "execute_result"
    }
   ],
   "source": [
    "pd.DataFrame(data)"
   ]
  },
  {
   "cell_type": "code",
   "execution_count": 34,
   "metadata": {},
   "outputs": [
    {
     "data": {
      "text/html": [
       "<div>\n",
       "<style scoped>\n",
       "    .dataframe tbody tr th:only-of-type {\n",
       "        vertical-align: middle;\n",
       "    }\n",
       "\n",
       "    .dataframe tbody tr th {\n",
       "        vertical-align: top;\n",
       "    }\n",
       "\n",
       "    .dataframe thead th {\n",
       "        text-align: right;\n",
       "    }\n",
       "</style>\n",
       "<table border=\"1\" class=\"dataframe\">\n",
       "  <thead>\n",
       "    <tr style=\"text-align: right;\">\n",
       "      <th></th>\n",
       "      <th>k</th>\n",
       "      <th>m</th>\n",
       "      <th>p_k,m</th>\n",
       "      <th>r_k,m</th>\n",
       "    </tr>\n",
       "  </thead>\n",
       "  <tbody>\n",
       "    <tr>\n",
       "      <th>0</th>\n",
       "      <td>0</td>\n",
       "      <td>0</td>\n",
       "      <td>1.0</td>\n",
       "      <td>65.0</td>\n",
       "    </tr>\n",
       "    <tr>\n",
       "      <th>1</th>\n",
       "      <td>0</td>\n",
       "      <td>1</td>\n",
       "      <td>12.0</td>\n",
       "      <td>98.0</td>\n",
       "    </tr>\n",
       "    <tr>\n",
       "      <th>2</th>\n",
       "      <td>1</td>\n",
       "      <td>0</td>\n",
       "      <td>19.0</td>\n",
       "      <td>62.0</td>\n",
       "    </tr>\n",
       "    <tr>\n",
       "      <th>3</th>\n",
       "      <td>1</td>\n",
       "      <td>1</td>\n",
       "      <td>35.0</td>\n",
       "      <td>90.0</td>\n",
       "    </tr>\n",
       "    <tr>\n",
       "      <th>4</th>\n",
       "      <td>2</td>\n",
       "      <td>0</td>\n",
       "      <td>37.0</td>\n",
       "      <td>23.0</td>\n",
       "    </tr>\n",
       "    <tr>\n",
       "      <th>5</th>\n",
       "      <td>2</td>\n",
       "      <td>1</td>\n",
       "      <td>50.0</td>\n",
       "      <td>95.0</td>\n",
       "    </tr>\n",
       "  </tbody>\n",
       "</table>\n",
       "</div>"
      ],
      "text/plain": [
       "   k  m  p_k,m  r_k,m\n",
       "0  0  0    1.0   65.0\n",
       "1  0  1   12.0   98.0\n",
       "2  1  0   19.0   62.0\n",
       "3  1  1   35.0   90.0\n",
       "4  2  0   37.0   23.0\n",
       "5  2  1   50.0   95.0"
      ]
     },
     "execution_count": 34,
     "metadata": {},
     "output_type": "execute_result"
    }
   ],
   "source": [
    "df['p_k,m'] = df[0].apply(lambda x: x[0])\n",
    "df['r_k,m'] = df[0].apply(lambda x: x[1])\n",
    "df.drop(columns=0)"
   ]
  },
  {
   "cell_type": "markdown",
   "metadata": {},
   "source": []
  },
  {
   "cell_type": "code",
   "execution_count": 45,
   "metadata": {},
   "outputs": [],
   "source": [
    "parser = Parser(\"data/testfiles/test1.txt\")\n",
    "dataset = parser.read()"
   ]
  },
  {
   "cell_type": "code",
   "execution_count": 46,
   "metadata": {},
   "outputs": [
    {
     "data": {
      "text/plain": [
       "{'filename': 'data/testfiles/test1.txt',\n",
       " 'M': None,\n",
       " 'N': None,\n",
       " 'K': None,\n",
       " 'p': None,\n",
       " 'data': {0:    k  m  n  p_k,m,n  r_k,m,n\n",
       "  0  0  0  0      1.0     65.0\n",
       "  1  0  1  0     12.0     98.0\n",
       "  2  1  0  0     19.0     62.0\n",
       "  3  1  1  0     35.0     90.0\n",
       "  4  2  0  0     37.0     23.0\n",
       "  5  2  1  0     50.0     95.0,\n",
       "  1:    k  m  n  p_k,m,n  r_k,m,n\n",
       "  0  0  0  1     20.0     49.0\n",
       "  1  0  1  1     50.0     54.0\n",
       "  2  1  0  1     16.0     76.0\n",
       "  3  1  1  1     17.0     81.0\n",
       "  4  2  0  1      1.0     50.0\n",
       "  5  2  1  1      7.0     85.0,\n",
       "  2:    k  m  n  p_k,m,n  r_k,m,n\n",
       "  0  0  0  2     13.0     24.0\n",
       "  1  0  1  2     36.0     86.0\n",
       "  2  1  0  2     34.0     41.0\n",
       "  3  1  1  2     46.0     62.0\n",
       "  4  2  0  2      1.0     63.0\n",
       "  5  2  1  2     27.0     87.0,\n",
       "  3:    k  m  n  p_k,m,n  r_k,m,n\n",
       "  0  0  0  3     16.0     15.0\n",
       "  1  0  1  3     28.0     56.0\n",
       "  2  1  0  3      1.0     13.0\n",
       "  3  1  1  3     32.0     95.0\n",
       "  4  2  0  3     35.0     41.0\n",
       "  5  2  1  3     43.0     42.0}}"
      ]
     },
     "execution_count": 46,
     "metadata": {},
     "output_type": "execute_result"
    }
   ],
   "source": [
    "dataset"
   ]
  },
  {
   "cell_type": "code",
   "execution_count": 47,
   "metadata": {},
   "outputs": [
    {
     "data": {
      "text/html": [
       "<div>\n",
       "<style scoped>\n",
       "    .dataframe tbody tr th:only-of-type {\n",
       "        vertical-align: middle;\n",
       "    }\n",
       "\n",
       "    .dataframe tbody tr th {\n",
       "        vertical-align: top;\n",
       "    }\n",
       "\n",
       "    .dataframe thead th {\n",
       "        text-align: right;\n",
       "    }\n",
       "</style>\n",
       "<table border=\"1\" class=\"dataframe\">\n",
       "  <thead>\n",
       "    <tr style=\"text-align: right;\">\n",
       "      <th></th>\n",
       "      <th>k</th>\n",
       "      <th>m</th>\n",
       "      <th>n</th>\n",
       "      <th>p_k,m,n</th>\n",
       "      <th>r_k,m,n</th>\n",
       "    </tr>\n",
       "  </thead>\n",
       "  <tbody>\n",
       "    <tr>\n",
       "      <th>0</th>\n",
       "      <td>0</td>\n",
       "      <td>0</td>\n",
       "      <td>3</td>\n",
       "      <td>16.0</td>\n",
       "      <td>15.0</td>\n",
       "    </tr>\n",
       "    <tr>\n",
       "      <th>1</th>\n",
       "      <td>0</td>\n",
       "      <td>1</td>\n",
       "      <td>3</td>\n",
       "      <td>28.0</td>\n",
       "      <td>56.0</td>\n",
       "    </tr>\n",
       "    <tr>\n",
       "      <th>2</th>\n",
       "      <td>1</td>\n",
       "      <td>0</td>\n",
       "      <td>3</td>\n",
       "      <td>1.0</td>\n",
       "      <td>13.0</td>\n",
       "    </tr>\n",
       "    <tr>\n",
       "      <th>3</th>\n",
       "      <td>1</td>\n",
       "      <td>1</td>\n",
       "      <td>3</td>\n",
       "      <td>32.0</td>\n",
       "      <td>95.0</td>\n",
       "    </tr>\n",
       "    <tr>\n",
       "      <th>4</th>\n",
       "      <td>2</td>\n",
       "      <td>0</td>\n",
       "      <td>3</td>\n",
       "      <td>35.0</td>\n",
       "      <td>41.0</td>\n",
       "    </tr>\n",
       "    <tr>\n",
       "      <th>5</th>\n",
       "      <td>2</td>\n",
       "      <td>1</td>\n",
       "      <td>3</td>\n",
       "      <td>43.0</td>\n",
       "      <td>42.0</td>\n",
       "    </tr>\n",
       "  </tbody>\n",
       "</table>\n",
       "</div>"
      ],
      "text/plain": [
       "   k  m  n  p_k,m,n  r_k,m,n\n",
       "0  0  0  3     16.0     15.0\n",
       "1  0  1  3     28.0     56.0\n",
       "2  1  0  3      1.0     13.0\n",
       "3  1  1  3     32.0     95.0\n",
       "4  2  0  3     35.0     41.0\n",
       "5  2  1  3     43.0     42.0"
      ]
     },
     "execution_count": 47,
     "metadata": {},
     "output_type": "execute_result"
    }
   ],
   "source": [
    "dataset['data'][3]"
   ]
  },
  {
   "cell_type": "code",
   "execution_count": 18,
   "metadata": {},
   "outputs": [
    {
     "data": {
      "text/plain": [
       "dict_keys([0, 1, 2, 3, 4, 5, 6])"
      ]
     },
     "execution_count": 18,
     "metadata": {},
     "output_type": "execute_result"
    }
   ],
   "source": [
    "dataset['data'].keys()"
   ]
  }
 ],
 "metadata": {
  "kernelspec": {
   "display_name": "base",
   "language": "python",
   "name": "python3"
  },
  "language_info": {
   "codemirror_mode": {
    "name": "ipython",
    "version": 3
   },
   "file_extension": ".py",
   "mimetype": "text/x-python",
   "name": "python",
   "nbconvert_exporter": "python",
   "pygments_lexer": "ipython3",
   "version": "3.10.9"
  }
 },
 "nbformat": 4,
 "nbformat_minor": 2
}
