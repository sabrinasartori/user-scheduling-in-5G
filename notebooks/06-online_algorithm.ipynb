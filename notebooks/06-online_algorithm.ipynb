{
 "cells": [
  {
   "cell_type": "code",
   "execution_count": 3,
   "metadata": {},
   "outputs": [],
   "source": [
    "%load_ext autoreload\n",
    "%autoreload 2"
   ]
  },
  {
   "cell_type": "code",
   "execution_count": 4,
   "metadata": {},
   "outputs": [
    {
     "name": "stderr",
     "output_type": "stream",
     "text": [
      "/tmp/ipykernel_115203/804485343.py:1: DeprecationWarning: \n",
      "Pyarrow will become a required dependency of pandas in the next major release of pandas (pandas 3.0),\n",
      "(to allow more performant data types, such as the Arrow string type, and better interoperability with other libraries)\n",
      "but was not found to be installed on your system.\n",
      "If this would cause problems for you,\n",
      "please provide us feedback at https://github.com/pandas-dev/pandas/issues/54466\n",
      "        \n",
      "  import pandas as pd\n"
     ]
    }
   ],
   "source": [
    "import pandas as pd\n",
    "import matplotlib.pyplot as plt\n",
    "import numpy as np\n",
    "import os\n",
    "from pulp import *\n",
    "from copy import deepcopy\n",
    "while \"notebooks\" in os.getcwd():\n",
    "    os.chdir(\"..\")\n",
    "\n",
    "from src.preprocessing.parser import Parser\n",
    "from src.preprocessing.preprocessor import Preprocessor\n",
    "from src.solvers.solution import Solution\n",
    "from src.solvers.pulp_solver import PuLPSolver\n",
    "\n",
    "from tqdm import tqdm\n",
    "from typing import Dict"
   ]
  },
  {
   "cell_type": "code",
   "execution_count": 5,
   "metadata": {},
   "outputs": [],
   "source": [
    "def generate(\n",
    "    k : int,\n",
    "    M : int,\n",
    "    N : int,\n",
    "    p_max : float,\n",
    "    r_max : float,\n",
    "):  \n",
    "    data : Dict[int, pd.DataFrame] = {}\n",
    "    for n in range(N):\n",
    "        index = 0\n",
    "        data[n] = pd.DataFrame([])\n",
    "        for m in range(M):\n",
    "            p_kmn = np.random.randint(1, p_max+1)\n",
    "            r_kmn = np.random.randint(1, r_max+1)\n",
    "\n",
    "            pair = {\n",
    "                \"k\": [k],\n",
    "                \"m\": [m],\n",
    "                \"n\": [n],\n",
    "                \"p_k,m,n\": [p_kmn],\n",
    "                \"r_k,m,n\": [r_kmn]\n",
    "            }\n",
    "            \n",
    "            index += 1\n",
    "            data[n] = pd.concat([data[n], pd.DataFrame(pair, index= [index])])\n",
    "\n",
    "\n",
    "    return data\n"
   ]
  },
  {
   "cell_type": "code",
   "execution_count": 6,
   "metadata": {},
   "outputs": [
    {
     "data": {
      "text/html": [
       "<div>\n",
       "<style scoped>\n",
       "    .dataframe tbody tr th:only-of-type {\n",
       "        vertical-align: middle;\n",
       "    }\n",
       "\n",
       "    .dataframe tbody tr th {\n",
       "        vertical-align: top;\n",
       "    }\n",
       "\n",
       "    .dataframe thead th {\n",
       "        text-align: right;\n",
       "    }\n",
       "</style>\n",
       "<table border=\"1\" class=\"dataframe\">\n",
       "  <thead>\n",
       "    <tr style=\"text-align: right;\">\n",
       "      <th></th>\n",
       "      <th>k</th>\n",
       "      <th>m</th>\n",
       "      <th>n</th>\n",
       "      <th>p_k,m,n</th>\n",
       "      <th>r_k,m,n</th>\n",
       "    </tr>\n",
       "  </thead>\n",
       "  <tbody>\n",
       "    <tr>\n",
       "      <th>1</th>\n",
       "      <td>5</td>\n",
       "      <td>0</td>\n",
       "      <td>0</td>\n",
       "      <td>49</td>\n",
       "      <td>92</td>\n",
       "    </tr>\n",
       "    <tr>\n",
       "      <th>2</th>\n",
       "      <td>5</td>\n",
       "      <td>1</td>\n",
       "      <td>0</td>\n",
       "      <td>51</td>\n",
       "      <td>34</td>\n",
       "    </tr>\n",
       "    <tr>\n",
       "      <th>3</th>\n",
       "      <td>5</td>\n",
       "      <td>2</td>\n",
       "      <td>0</td>\n",
       "      <td>38</td>\n",
       "      <td>1</td>\n",
       "    </tr>\n",
       "  </tbody>\n",
       "</table>\n",
       "</div>"
      ],
      "text/plain": [
       "   k  m  n  p_k,m,n  r_k,m,n\n",
       "1  5  0  0       49       92\n",
       "2  5  1  0       51       34\n",
       "3  5  2  0       38        1"
      ]
     },
     "execution_count": 6,
     "metadata": {},
     "output_type": "execute_result"
    }
   ],
   "source": [
    "d = generate(5,3,7,100,100)\n",
    "d[0]"
   ]
  },
  {
   "cell_type": "code",
   "execution_count": 7,
   "metadata": {},
   "outputs": [],
   "source": [
    "# K = 10\n",
    "# M = 2\n",
    "# N = 4\n",
    "# p_max = 50\n",
    "# r_max = 100\n",
    "# p = 100\n",
    "\n",
    "# allocated_channels = set()\n",
    "# data_rate = 0\n",
    "# total_power = 0\n",
    "\n",
    "# data : Dict[int , pd.DataFrame] = {n : pd.DataFrame([]) for n in range(N)}\n",
    "\n",
    "\n",
    "# for k in range(K):\n",
    "#     data_k = generate(k, M, N, p_max, r_max)\n",
    "\n",
    "#     for n in range(N):\n",
    "#         data[n] = pd.concat([data[n], data_k[n]]) \n",
    "\n",
    "#     pairs = []\n",
    "#     for n in range(N):\n",
    "#         if n in allocated_channels:\n",
    "#             continue\n",
    "\n",
    "#         pairs.append(data_k[n])\n",
    "\n",
    "#     if len(pairs) == 0:\n",
    "#         break\n",
    "\n",
    "#     pairs = pd.concat(pairs)\n",
    "#     pairs['e_k,m,n'] = pairs['r_k,m,n']/pairs['p_k,m,n']\n",
    "#     sorted_pairs = pairs.sort_values(by='e_k,m,n', ascending=False)\n",
    "\n",
    "#     power_used = 0\n",
    "\n",
    "#     for idx, row in sorted_pairs.iterrows():\n",
    "#         n = row['n']\n",
    "#         p_kmn = row['p_k,m,n']\n",
    "#         r_kmn = row['r_k,m,n']\n",
    "\n",
    "#         if p_kmn + power_used <= p/K:\n",
    "#             allocated_channels.add(n)\n",
    "#             power_used += p_kmn\n",
    "#             total_power += p_kmn\n",
    "#             data_rate += r_kmn\n",
    "\n",
    "#             if power_used == p/K:\n",
    "#                 break\n",
    "\n",
    "# data_rate, total_power"
   ]
  },
  {
   "cell_type": "code",
   "execution_count": 9,
   "metadata": {},
   "outputs": [],
   "source": [
    "# compute e_average\n",
    "\n",
    "def get_e_average(p_max, r_max) -> int:\n",
    "    e = 0 \n",
    "    for p_i in range(1,p_max +1):\n",
    "        for r_i in range(1, r_max + 1):\n",
    "            \n",
    "            e+= r_i/p_i\n",
    "\n",
    "    return e/(p_max*r_max)"
   ]
  },
  {
   "cell_type": "code",
   "execution_count": 55,
   "metadata": {},
   "outputs": [],
   "source": [
    "def online_solution(\n",
    "    K : int,\n",
    "    M : int,\n",
    "    N : int,\n",
    "    p_max : int,\n",
    "    r_max : int,\n",
    "    p : float,\n",
    "    tolerance : float = 0.6\n",
    "):\n",
    "\n",
    "    allocated_channels = set()\n",
    "    data_rate = 0\n",
    "    total_power = 0\n",
    "\n",
    "    data : Dict[int , pd.DataFrame] = {n : pd.DataFrame([]) for n in range(N)}\n",
    "    e_avg = get_e_average(p_max, r_max)\n",
    "\n",
    "    for k in range(K):\n",
    "        data_k = generate(k, M, N, p_max, r_max)\n",
    "\n",
    "        for n in range(N):\n",
    "            data[n] = pd.concat([data[n], data_k[n]]) \n",
    "\n",
    "            if n in allocated_channels:\n",
    "                continue\n",
    "            \n",
    "            best_p, best_r = None, None\n",
    "            for idx, row in data_k[n].iterrows():\n",
    "                p_i = row['p_k,m,n']\n",
    "                r_i = row['r_k,m,n']\n",
    "\n",
    "                if p_i + total_power > p:\n",
    "                    continue\n",
    "\n",
    "                if best_p is None:\n",
    "                    best_p = p_i\n",
    "                    best_r = r_i\n",
    "\n",
    "                    continue\n",
    "                \n",
    "                if compare(best_p, best_r, p_i, r_i, e_avg):\n",
    "                    best_p = p_i\n",
    "                    best_r = r_i\n",
    "\n",
    "            if best_p is None:\n",
    "                continue\n",
    "            \n",
    "            # We don't have choice if we are on the last user\n",
    "            if k == K-1:\n",
    "\n",
    "                allocated_channels.add(n)\n",
    "                data_rate += best_r\n",
    "                total_power += best_p\n",
    "\n",
    "            else:\n",
    "\n",
    "                if good_enough(best_p, best_r, p_max, r_max, e_avg, tolerance):\n",
    "                    allocated_channels.add(n)\n",
    "                    data_rate += best_r\n",
    "                    total_power += best_p\n",
    "\n",
    "\n",
    "    return data_rate, total_power, data, allocated_channels\n",
    "\n",
    "def compare(\n",
    "    p1 : int, \n",
    "    r1 : int, \n",
    "    p2 : int, \n",
    "    r2 : int, \n",
    "    e_average : float\n",
    "):\n",
    "    \"\"\"Returns true if (p2, r2) is better than (p1, r1)\n",
    "\n",
    "    Args:\n",
    "        p1 (int): _description_\n",
    "        r1 (int): _description_\n",
    "        p2 (int): _description_\n",
    "        r2 (int): _description_\n",
    "    \n",
    "    Returns:\n",
    "        bool: If (p2, r2) is better than (p1,r1)\n",
    "    \"\"\"    \n",
    "    return r2/p2 > r1/p1\n",
    "    \n",
    "    # return r2 - e_average*p2 >= r1 - e_average*p1\n",
    "\n",
    "def good_enough(p, r, expected_e):\n",
    "    \"\"\"_summary_\n",
    "\n",
    "    Args:\n",
    "        p (_type_): _description_\n",
    "        r (_type_): _description_\n",
    "        expected_e (_type_): _description_\n",
    "\n",
    "    Returns:\n",
    "        bool: _description_\n",
    "    \"\"\"    \n",
    "    return r/p >= expected_e\n",
    "    \n"
   ]
  },
  {
   "cell_type": "code",
   "execution_count": 59,
   "metadata": {},
   "outputs": [
    {
     "name": "stderr",
     "output_type": "stream",
     "text": [
      "  0%|          | 0/100 [00:00<?, ?it/s]"
     ]
    },
    {
     "name": "stderr",
     "output_type": "stream",
     "text": [
      "100%|██████████| 100/100 [00:09<00:00, 10.59it/s]\n"
     ]
    }
   ],
   "source": [
    "K = 10\n",
    "M = 2\n",
    "N = 4\n",
    "p_max = 50\n",
    "r_max = 100\n",
    "p = 100\n",
    "\n",
    "n_experiments = 100\n",
    "\n",
    "channels = []\n",
    "optimal_solution = []\n",
    "sub_optimal_online_solution = []\n",
    "for attempt in tqdm(range(n_experiments)):\n",
    "    data_rate, total_power, data, allocated_channels = online_solution(\n",
    "        K,\n",
    "        M,\n",
    "        N,\n",
    "        p_max,\n",
    "        r_max,\n",
    "        p,\n",
    "    )\n",
    "\n",
    "    channels.append(allocated_channels)\n",
    "\n",
    "    sub_optimal_online_solution.append(data_rate)\n",
    "\n",
    "    lp_solver = PuLPSolver(\n",
    "        K,\n",
    "        M,\n",
    "        N,\n",
    "        p,\n",
    "        data\n",
    "    )\n",
    "\n",
    "    lp_solver.solve()\n",
    "\n",
    "    optimal_solution.append(lp_solver.get_data_rate())"
   ]
  },
  {
   "cell_type": "code",
   "execution_count": 61,
   "metadata": {},
   "outputs": [
    {
     "data": {
      "text/plain": [
       "0.7020208014857612"
      ]
     },
     "execution_count": 61,
     "metadata": {},
     "output_type": "execute_result"
    }
   ],
   "source": [
    "np.mean(sub_optimal_online_solution)/ np.mean(optimal_solution)"
   ]
  },
  {
   "cell_type": "code",
   "execution_count": 53,
   "metadata": {},
   "outputs": [
    {
     "data": {
      "text/plain": [
       "383.0"
      ]
     },
     "execution_count": 53,
     "metadata": {},
     "output_type": "execute_result"
    }
   ],
   "source": [
    "lp_solver = PuLPSolver(\n",
    "    K,\n",
    "    M,\n",
    "    N,\n",
    "    p,\n",
    "    data\n",
    ")\n",
    "\n",
    "lp_solver.solve()\n",
    "\n",
    "lp_solver.get_data_rate()"
   ]
  },
  {
   "cell_type": "code",
   "execution_count": 54,
   "metadata": {},
   "outputs": [
    {
     "data": {
      "text/plain": [
       "(331, 30)"
      ]
     },
     "execution_count": 54,
     "metadata": {},
     "output_type": "execute_result"
    }
   ],
   "source": [
    "data_rate, total_power"
   ]
  }
 ],
 "metadata": {
  "kernelspec": {
   "display_name": "user-scheduling-in-5g",
   "language": "python",
   "name": "python3"
  },
  "language_info": {
   "codemirror_mode": {
    "name": "ipython",
    "version": 3
   },
   "file_extension": ".py",
   "mimetype": "text/x-python",
   "name": "python",
   "nbconvert_exporter": "python",
   "pygments_lexer": "ipython3",
   "version": "3.12.1"
  }
 },
 "nbformat": 4,
 "nbformat_minor": 2
}
