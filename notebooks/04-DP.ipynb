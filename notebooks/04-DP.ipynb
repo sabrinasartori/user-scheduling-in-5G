{
 "cells": [
  {
   "cell_type": "code",
   "execution_count": 2,
   "metadata": {},
   "outputs": [],
   "source": [
    "%load_ext autoreload\n",
    "%autoreload 2"
   ]
  },
  {
   "cell_type": "code",
   "execution_count": 9,
   "metadata": {},
   "outputs": [],
   "source": [
    "import pandas as pd\n",
    "import matplotlib.pyplot as plt\n",
    "import numpy as np\n",
    "import os\n",
    "from pulp import *\n",
    "from copy import deepcopy\n",
    "while \"notebooks\" in os.getcwd():\n",
    "    os.chdir(\"..\")\n",
    "\n",
    "from src.preprocessing.parser import Parser\n",
    "from src.preprocessing.preprocessor import Preprocessor\n",
    "from src.solvers.solution import Solution\n",
    "from src.solvers.pulp_solver import PuLPSolver\n",
    "\n",
    "from tqdm import tqdm\n",
    "from typing import Dict"
   ]
  },
  {
   "cell_type": "code",
   "execution_count": 208,
   "metadata": {},
   "outputs": [],
   "source": [
    "parser = Parser(\"data/testfiles/test1.txt\")"
   ]
  },
  {
   "cell_type": "code",
   "execution_count": 209,
   "metadata": {},
   "outputs": [
    {
     "name": "stderr",
     "output_type": "stream",
     "text": [
      "28it [00:00, 50906.16it/s]\n"
     ]
    }
   ],
   "source": [
    "\n",
    "info = parser.read()"
   ]
  },
  {
   "cell_type": "code",
   "execution_count": 210,
   "metadata": {},
   "outputs": [],
   "source": [
    "dataset : Dict[int, pd.DataFrame ]= info['data']\n",
    "p, K, M, N = info['p'], info['K'], info['M'], info['N']"
   ]
  },
  {
   "cell_type": "code",
   "execution_count": 211,
   "metadata": {},
   "outputs": [
    {
     "name": "stderr",
     "output_type": "stream",
     "text": [
      "100%|██████████| 4/4 [00:00<00:00, 2574.38it/s]\n",
      "100%|██████████| 4/4 [00:00<00:00, 320.46it/s]\n",
      "100%|██████████| 4/4 [00:00<00:00, 4525.82it/s]\n"
     ]
    }
   ],
   "source": [
    "preprocessor = Preprocessor(\n",
    "    K, \n",
    "    M,\n",
    "    N,\n",
    "    p,\n",
    "    dataset\n",
    ")\n",
    "\n",
    "data_1 = preprocessor.remove_trivial_values()\n",
    "data_2 = preprocessor.remove_ip_dominated(dataset)\n",
    "data_3 = preprocessor.remove_lp_dominated(data_2)"
   ]
  },
  {
   "cell_type": "code",
   "execution_count": 213,
   "metadata": {},
   "outputs": [],
   "source": [
    "\n",
    "memo = dict()\n",
    "\n",
    "def R(\n",
    "    N, \n",
    "    p_max, \n",
    "    dataset : Dict[int, pd.DataFrame]\n",
    "):\n",
    "    \n",
    "    global memo\n",
    "\n",
    "    for idx, row in dataset[0].iterrows():\n",
    "        \n",
    "        k, m= row['k'], row['m']\n",
    "        r_kmn, p_kmn = row['r_k,m,n'], row['p_k,m,n']\n",
    "        \n",
    "        if p_kmn <= p_max: \n",
    "\n",
    "            memo[tuple((0, p_kmn))] = r_kmn\n",
    "\n",
    "    \n",
    "    for n in range(1,N):\n",
    "        new_values = {}\n",
    "        for idx, row in dataset[n].iterrows():\n",
    "            \n",
    "            r_kmn = row['r_k,m,n']\n",
    "            p_kmn = row['p_k,m,n']\n",
    "\n",
    "            for (n,p), r in memo.items(): \n",
    "\n",
    "                if p + p_kmn > p_max:\n",
    "                    continue\n",
    "\n",
    "                key = tuple((n-1, p + p_kmn))\n",
    "\n",
    "                if new_values.get(key) is not None:\n",
    "                    new_values[key] = max(r + r_kmn, new_values[key])\n",
    "                \n",
    "                else:\n",
    "                    new_values[key] = r + r_kmn\n",
    "        memo = new_values       \n",
    "\n",
    "    return max(memo.values())    "
   ]
  },
  {
   "cell_type": "code",
   "execution_count": 214,
   "metadata": {},
   "outputs": [
    {
     "data": {
      "text/plain": [
       "365.0"
      ]
     },
     "execution_count": 214,
     "metadata": {},
     "output_type": "execute_result"
    }
   ],
   "source": [
    "memo = {}\n",
    "R(N, p, data_3)"
   ]
  },
  {
   "cell_type": "code",
   "execution_count": 215,
   "metadata": {},
   "outputs": [],
   "source": [
    "items = {}\n",
    "def P(\n",
    "    N, \n",
    "    p_max,\n",
    "    U, \n",
    "    dataset : Dict[int, pd.DataFrame]\n",
    "):\n",
    "    if U < 0:\n",
    "        return -np.inf, 0\n",
    "    global items\n",
    "\n",
    "    for idx, row in dataset[0].iterrows():\n",
    "        \n",
    "        r_kmn, p_kmn = row['r_k,m,n'], row['p_k,m,n']\n",
    "\n",
    "        key = tuple((0, r_kmn))\n",
    "        if r_kmn <= U:\n",
    "            items[key] = p_kmn\n",
    "\n",
    "    for n in range(1,N):\n",
    "        new_items = {}\n",
    "        for idx, row in dataset[n].iterrows():\n",
    "        \n",
    "            r_kmn = row['r_k,m,n']\n",
    "            p_kmn = row['p_k,m,n']\n",
    "\n",
    "            for key, p in items.items():\n",
    "\n",
    "                r = key[1]\n",
    "\n",
    "                if r + r_kmn <= U:\n",
    "                    t = tuple((n, r + r_kmn))\n",
    "                    \n",
    "                    # if there exists another n, (r+r_kmn) key\n",
    "\n",
    "                    if new_items.get(t) is not None:\n",
    "                        new_items[t] = min(p + p_kmn, new_items[t])\n",
    "                    else:\n",
    "                        new_items[t] = p + p_kmn\n",
    "        items = new_items\n",
    "    \n",
    "    # return maximal r\n",
    "    r_max = -1\n",
    "    for key, p in items.items():\n",
    "        if key[0] != N-1:\n",
    "            continue\n",
    "\n",
    "        r = key[1]\n",
    "        if r> r_max and p <= p_max:\n",
    "            r_max = r \n",
    "        \n",
    "    return r_max\n",
    "\n",
    "        "
   ]
  },
  {
   "cell_type": "code",
   "execution_count": 216,
   "metadata": {},
   "outputs": [
    {
     "name": "stdout",
     "output_type": "stream",
     "text": [
      "Welcome to the CBC MILP Solver \n",
      "Version: 2.10.3 \n",
      "Build Date: Dec 15 2019 \n",
      "\n",
      "command line - /home/pedro/anaconda3/envs/user-scheduling-in-5g/lib/python3.12/site-packages/pulp/solverdir/cbc/linux/64/cbc /tmp/657814b442904cf08b529c34f1d6e88b-pulp.mps -max -timeMode elapsed -branch -printingOptions all -solution /tmp/657814b442904cf08b529c34f1d6e88b-pulp.sol (default strategy 1)\n",
      "At line 2 NAME          MODEL\n",
      "At line 3 ROWS\n",
      "At line 10 COLUMNS\n",
      "At line 35 RHS\n",
      "At line 41 BOUNDS\n",
      "At line 50 ENDATA\n",
      "Problem MODEL has 5 rows, 8 columns and 16 elements\n",
      "Coin0008I MODEL read with 0 errors\n",
      "Option for timeMode changed from cpu to elapsed\n",
      "Presolve 0 (-5) rows, 0 (-8) columns and 0 (-16) elements\n",
      "Empty problem - 0 rows, 0 columns and 0 elements\n",
      "Optimal - objective value 365\n",
      "After Postsolve, objective 365, infeasibilities - dual 191 (4), primal 0 (0)\n",
      "Presolved model was optimal, full model needs cleaning up\n",
      "0  Obj 365 Dual inf 234.9072 (4)\n",
      "4  Obj 365\n",
      "Optimal - objective value 365\n",
      "Optimal objective 365 - 4 iterations time 0.002, Presolve 0.00\n",
      "Option for printingOptions changed from normal to all\n",
      "Total time (CPU seconds):       0.00   (Wallclock seconds):       0.00\n",
      "\n"
     ]
    }
   ],
   "source": [
    "solver = PuLPSolver(\n",
    "    K,\n",
    "    M,\n",
    "    N,\n",
    "    p,\n",
    "    data_3\n",
    ")\n",
    "\n",
    "solver.solve()\n",
    "U = int(solver.solution.objective.value())"
   ]
  },
  {
   "cell_type": "code",
   "execution_count": 217,
   "metadata": {},
   "outputs": [
    {
     "data": {
      "text/plain": [
       "365"
      ]
     },
     "execution_count": 217,
     "metadata": {},
     "output_type": "execute_result"
    }
   ],
   "source": [
    "U"
   ]
  },
  {
   "cell_type": "code",
   "execution_count": 218,
   "metadata": {},
   "outputs": [
    {
     "data": {
      "text/plain": [
       "365.0"
      ]
     },
     "execution_count": 218,
     "metadata": {},
     "output_type": "execute_result"
    }
   ],
   "source": [
    "P(N, p, U, data_3)"
   ]
  },
  {
   "cell_type": "code",
   "execution_count": 152,
   "metadata": {},
   "outputs": [
    {
     "data": {
      "text/plain": [
       "1000.0"
      ]
     },
     "execution_count": 152,
     "metadata": {},
     "output_type": "execute_result"
    }
   ],
   "source": [
    "items[tuple((N-1, 1637))]"
   ]
  },
  {
   "cell_type": "code",
   "execution_count": null,
   "metadata": {},
   "outputs": [],
   "source": []
  }
 ],
 "metadata": {
  "kernelspec": {
   "display_name": "user-scheduling-in-5g",
   "language": "python",
   "name": "python3"
  },
  "language_info": {
   "codemirror_mode": {
    "name": "ipython",
    "version": 3
   },
   "file_extension": ".py",
   "mimetype": "text/x-python",
   "name": "python",
   "nbconvert_exporter": "python",
   "pygments_lexer": "ipython3",
   "version": "3.12.1"
  }
 },
 "nbformat": 4,
 "nbformat_minor": 2
}
