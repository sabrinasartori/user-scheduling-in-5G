{
 "cells": [
  {
   "cell_type": "code",
   "execution_count": 1,
   "metadata": {},
   "outputs": [],
   "source": [
    "%load_ext autoreload\n",
    "%autoreload 2"
   ]
  },
  {
   "cell_type": "code",
   "execution_count": 2,
   "metadata": {},
   "outputs": [
    {
     "name": "stderr",
     "output_type": "stream",
     "text": [
      "/tmp/ipykernel_367411/3861418726.py:1: DeprecationWarning: \n",
      "Pyarrow will become a required dependency of pandas in the next major release of pandas (pandas 3.0),\n",
      "(to allow more performant data types, such as the Arrow string type, and better interoperability with other libraries)\n",
      "but was not found to be installed on your system.\n",
      "If this would cause problems for you,\n",
      "please provide us feedback at https://github.com/pandas-dev/pandas/issues/54466\n",
      "        \n",
      "  import pandas as pd\n"
     ]
    }
   ],
   "source": [
    "import pandas as pd\n",
    "import matplotlib.pyplot as plt\n",
    "import numpy as np\n",
    "import os\n",
    "from pulp import *\n",
    "from copy import deepcopy\n",
    "while \"notebooks\" in os.getcwd():\n",
    "    os.chdir(\"..\")\n",
    "\n",
    "from src.preprocessing.parser import Parser\n",
    "from src.preprocessing.preprocessor import Preprocessor\n",
    "from src.solvers.solution import Solution\n",
    "from src.solvers.greedy import GreedySolver\n",
    "\n",
    "from tqdm import tqdm\n",
    "from typing import Dict"
   ]
  },
  {
   "cell_type": "code",
   "execution_count": null,
   "metadata": {},
   "outputs": [],
   "source": []
  },
  {
   "cell_type": "code",
   "execution_count": 30,
   "metadata": {},
   "outputs": [],
   "source": [
    "parser = Parser(\"data/testfiles/test4.txt\")"
   ]
  },
  {
   "cell_type": "code",
   "execution_count": 31,
   "metadata": {},
   "outputs": [
    {
     "name": "stderr",
     "output_type": "stream",
     "text": [
      "0it [00:00, ?it/s]"
     ]
    },
    {
     "name": "stderr",
     "output_type": "stream",
     "text": [
      "76804it [00:01, 46541.01it/s]\n"
     ]
    }
   ],
   "source": [
    "info = parser.read()"
   ]
  },
  {
   "cell_type": "code",
   "execution_count": 32,
   "metadata": {},
   "outputs": [],
   "source": [
    "dataset : Dict[int, pd.DataFrame ]= info['data']\n",
    "p, K, M, N = info['p'], info['K'], info['M'], info['N']"
   ]
  },
  {
   "cell_type": "code",
   "execution_count": 33,
   "metadata": {},
   "outputs": [
    {
     "name": "stderr",
     "output_type": "stream",
     "text": [
      "100%|██████████| 640/640 [00:00<00:00, 10090.91it/s]\n",
      "100%|██████████| 640/640 [03:28<00:00,  3.07it/s]\n",
      "100%|██████████| 640/640 [00:06<00:00, 104.64it/s]\n"
     ]
    }
   ],
   "source": [
    "preprocessor = Preprocessor(\n",
    "    K, \n",
    "    M,\n",
    "    N,\n",
    "    p,\n",
    "    dataset\n",
    ")\n",
    "\n",
    "data_1 = preprocessor.remove_trivial_values()\n",
    "data_2 = preprocessor.remove_ip_dominated(dataset)\n",
    "data_3 = preprocessor.remove_lp_dominated(data_2)"
   ]
  },
  {
   "cell_type": "code",
   "execution_count": 39,
   "metadata": {},
   "outputs": [],
   "source": [
    "solver = GreedySolver(\n",
    "    K, \n",
    "    M,\n",
    "    N,\n",
    "    p,\n",
    "    data_3\n",
    ")"
   ]
  },
  {
   "cell_type": "code",
   "execution_count": 40,
   "metadata": {},
   "outputs": [
    {
     "data": {
      "text/plain": [
       "4974"
      ]
     },
     "execution_count": 40,
     "metadata": {},
     "output_type": "execute_result"
    }
   ],
   "source": [
    "s = 0\n",
    "for v in data_3.values():\n",
    "    s+= len(v)\n",
    "\n",
    "s"
   ]
  },
  {
   "cell_type": "code",
   "execution_count": 41,
   "metadata": {},
   "outputs": [],
   "source": [
    "solver.solve(data_3)"
   ]
  },
  {
   "cell_type": "code",
   "execution_count": 42,
   "metadata": {},
   "outputs": [
    {
     "data": {
      "text/plain": [
       "0.0"
      ]
     },
     "execution_count": 42,
     "metadata": {},
     "output_type": "execute_result"
    }
   ],
   "source": [
    "solver.solution.get_remaining_power_budget()"
   ]
  },
  {
   "cell_type": "code",
   "execution_count": 43,
   "metadata": {},
   "outputs": [
    {
     "data": {
      "text/plain": [
       "9870.32183908046"
      ]
     },
     "execution_count": 43,
     "metadata": {},
     "output_type": "execute_result"
    }
   ],
   "source": [
    "solver.solution.get_data_rate()"
   ]
  },
  {
   "cell_type": "markdown",
   "metadata": {},
   "source": [
    "## Greedy algorithm"
   ]
  },
  {
   "cell_type": "code",
   "execution_count": 101,
   "metadata": {},
   "outputs": [],
   "source": []
  },
  {
   "cell_type": "code",
   "execution_count": 102,
   "metadata": {},
   "outputs": [
    {
     "data": {
      "text/plain": [
       "196"
      ]
     },
     "execution_count": 102,
     "metadata": {},
     "output_type": "execute_result"
    }
   ],
   "source": [
    "s"
   ]
  },
  {
   "cell_type": "code",
   "execution_count": 103,
   "metadata": {},
   "outputs": [],
   "source": [
    "solution = Solution(\n",
    "    K,\n",
    "    M, \n",
    "    N, \n",
    "    p\n",
    ")\n",
    "\n",
    "for n in range(N):\n",
    "    p_kmn = data_3[n]\\\n",
    "        .iloc[0]\\\n",
    "        ['p_k,m,n']\n",
    "    \n",
    "    r_kmn = data_3[n]\\\n",
    "        .iloc[0]\\\n",
    "        ['r_k,m,n']\n",
    "    \n",
    "    k = data_3[n]\\\n",
    "        .iloc[0]\\\n",
    "        ['k']\n",
    "    \n",
    "    m = data_3[n]\\\n",
    "        .iloc[0]\\\n",
    "        ['m']\n",
    "    \n",
    "    solution.consume_power_budget(p_kmn) \n",
    "    solution.add_data_rate(r_kmn)\n",
    "    \n",
    "    solution.set_triple(k,m,n,p_kmn, r_kmn)\n",
    "\n"
   ]
  },
  {
   "cell_type": "code",
   "execution_count": 104,
   "metadata": {},
   "outputs": [],
   "source": [
    "all_pairs = []\n",
    "for n in range(N):\n",
    "    data_3[n]['inc_eff'] = (data_3[n]['r_k,m,n'] - data_3[n].shift(1)['r_k,m,n'])/(data_3[n]['p_k,m,n'] - data_3[n].shift(1)['p_k,m,n'])\n",
    "    all_pairs.append(data_3[n].dropna())\n",
    "\n",
    "all_pairs = pd.concat(all_pairs).reset_index(drop=True)\n",
    "\n",
    "sorted_by_eff = all_pairs.sort_values(by = \"inc_eff\", ascending=False)"
   ]
  },
  {
   "cell_type": "code",
   "execution_count": 105,
   "metadata": {},
   "outputs": [],
   "source": [
    "def popleft(df : pd.DataFrame):\n",
    "    x = df.iloc[0]\n",
    "    k = int(x.k)\n",
    "    m = int(x.m)\n",
    "    n = int(x.n)\n",
    "    p_kmn = x['p_k,m,n']\n",
    "    r_kmn = x['r_k,m,n']\n",
    "    df = df.drop(index=x.name)\n",
    "\n",
    "    return k,m,n, p_kmn, r_kmn, df"
   ]
  },
  {
   "cell_type": "code",
   "execution_count": 106,
   "metadata": {},
   "outputs": [
    {
     "data": {
      "text/html": [
       "<div>\n",
       "<style scoped>\n",
       "    .dataframe tbody tr th:only-of-type {\n",
       "        vertical-align: middle;\n",
       "    }\n",
       "\n",
       "    .dataframe tbody tr th {\n",
       "        vertical-align: top;\n",
       "    }\n",
       "\n",
       "    .dataframe thead th {\n",
       "        text-align: right;\n",
       "    }\n",
       "</style>\n",
       "<table border=\"1\" class=\"dataframe\">\n",
       "  <thead>\n",
       "    <tr style=\"text-align: right;\">\n",
       "      <th></th>\n",
       "      <th>k</th>\n",
       "      <th>m</th>\n",
       "      <th>n</th>\n",
       "      <th>p_k,m,n</th>\n",
       "      <th>r_k,m,n</th>\n",
       "      <th>inc_eff</th>\n",
       "    </tr>\n",
       "  </thead>\n",
       "  <tbody>\n",
       "    <tr>\n",
       "      <th>109</th>\n",
       "      <td>2</td>\n",
       "      <td>0</td>\n",
       "      <td>29</td>\n",
       "      <td>22.0</td>\n",
       "      <td>35.0</td>\n",
       "      <td>27.000000</td>\n",
       "    </tr>\n",
       "    <tr>\n",
       "      <th>152</th>\n",
       "      <td>14</td>\n",
       "      <td>0</td>\n",
       "      <td>39</td>\n",
       "      <td>5.0</td>\n",
       "      <td>52.0</td>\n",
       "      <td>16.000000</td>\n",
       "    </tr>\n",
       "    <tr>\n",
       "      <th>74</th>\n",
       "      <td>5</td>\n",
       "      <td>0</td>\n",
       "      <td>19</td>\n",
       "      <td>15.0</td>\n",
       "      <td>24.0</td>\n",
       "      <td>11.500000</td>\n",
       "    </tr>\n",
       "    <tr>\n",
       "      <th>129</th>\n",
       "      <td>7</td>\n",
       "      <td>0</td>\n",
       "      <td>34</td>\n",
       "      <td>5.0</td>\n",
       "      <td>34.0</td>\n",
       "      <td>9.000000</td>\n",
       "    </tr>\n",
       "    <tr>\n",
       "      <th>54</th>\n",
       "      <td>10</td>\n",
       "      <td>0</td>\n",
       "      <td>15</td>\n",
       "      <td>54.0</td>\n",
       "      <td>29.0</td>\n",
       "      <td>5.250000</td>\n",
       "    </tr>\n",
       "    <tr>\n",
       "      <th>...</th>\n",
       "      <td>...</td>\n",
       "      <td>...</td>\n",
       "      <td>...</td>\n",
       "      <td>...</td>\n",
       "      <td>...</td>\n",
       "      <td>...</td>\n",
       "    </tr>\n",
       "    <tr>\n",
       "      <th>113</th>\n",
       "      <td>14</td>\n",
       "      <td>3</td>\n",
       "      <td>29</td>\n",
       "      <td>656.0</td>\n",
       "      <td>94.0</td>\n",
       "      <td>0.009828</td>\n",
       "    </tr>\n",
       "    <tr>\n",
       "      <th>101</th>\n",
       "      <td>11</td>\n",
       "      <td>3</td>\n",
       "      <td>26</td>\n",
       "      <td>537.0</td>\n",
       "      <td>96.0</td>\n",
       "      <td>0.008671</td>\n",
       "    </tr>\n",
       "    <tr>\n",
       "      <th>73</th>\n",
       "      <td>11</td>\n",
       "      <td>3</td>\n",
       "      <td>18</td>\n",
       "      <td>608.0</td>\n",
       "      <td>100.0</td>\n",
       "      <td>0.007075</td>\n",
       "    </tr>\n",
       "    <tr>\n",
       "      <th>97</th>\n",
       "      <td>9</td>\n",
       "      <td>3</td>\n",
       "      <td>25</td>\n",
       "      <td>593.0</td>\n",
       "      <td>100.0</td>\n",
       "      <td>0.002874</td>\n",
       "    </tr>\n",
       "    <tr>\n",
       "      <th>82</th>\n",
       "      <td>0</td>\n",
       "      <td>3</td>\n",
       "      <td>20</td>\n",
       "      <td>614.0</td>\n",
       "      <td>98.0</td>\n",
       "      <td>0.002625</td>\n",
       "    </tr>\n",
       "  </tbody>\n",
       "</table>\n",
       "<p>156 rows × 6 columns</p>\n",
       "</div>"
      ],
      "text/plain": [
       "      k  m   n  p_k,m,n  r_k,m,n    inc_eff\n",
       "109   2  0  29     22.0     35.0  27.000000\n",
       "152  14  0  39      5.0     52.0  16.000000\n",
       "74    5  0  19     15.0     24.0  11.500000\n",
       "129   7  0  34      5.0     34.0   9.000000\n",
       "54   10  0  15     54.0     29.0   5.250000\n",
       "..   .. ..  ..      ...      ...        ...\n",
       "113  14  3  29    656.0     94.0   0.009828\n",
       "101  11  3  26    537.0     96.0   0.008671\n",
       "73   11  3  18    608.0    100.0   0.007075\n",
       "97    9  3  25    593.0    100.0   0.002874\n",
       "82    0  3  20    614.0     98.0   0.002625\n",
       "\n",
       "[156 rows x 6 columns]"
      ]
     },
     "execution_count": 106,
     "metadata": {},
     "output_type": "execute_result"
    }
   ],
   "source": [
    "sorted_by_eff"
   ]
  },
  {
   "cell_type": "code",
   "execution_count": 107,
   "metadata": {},
   "outputs": [],
   "source": [
    "# greedy iteration\n",
    "\n",
    "best_k, best_m, best_n, best_p_kmn, best_r_kmn, sorted_by_eff = popleft(sorted_by_eff.dropna())\n",
    "\n",
    "k,m, p_kmn, r_kmn, name = solution.get_solution_at_channel(best_n)\n",
    "\n",
    "while best_p_kmn - p_kmn <= solution.get_remaining_power_budget():\n",
    "\n",
    "    solution.set_triple(\n",
    "        int(best_k), \n",
    "        int(best_m),\n",
    "        best_n,\n",
    "        best_p_kmn,\n",
    "        best_r_kmn\n",
    "    )\n",
    "    \n",
    "    solution.consume_power_budget(best_p_kmn - p_kmn)\n",
    "\n",
    "    solution.add_data_rate(best_r_kmn - r_kmn)\n",
    "    \n",
    "    if len(sorted_by_eff) > 0:\n",
    "        best_k, best_m, best_n, best_p_kmn, best_r_kmn, sorted_by_eff = popleft(sorted_by_eff)\n",
    "        k,m, p_kmn, r_kmn, name = solution.get_solution_at_channel(best_n)\n",
    "    \n",
    "    else: \n",
    "        break\n"
   ]
  },
  {
   "cell_type": "code",
   "execution_count": 108,
   "metadata": {},
   "outputs": [
    {
     "data": {
      "text/plain": [
       "1637.0"
      ]
     },
     "execution_count": 108,
     "metadata": {},
     "output_type": "execute_result"
    }
   ],
   "source": [
    "solution.get_data_rate()"
   ]
  },
  {
   "cell_type": "markdown",
   "metadata": {},
   "source": [
    "## LP Solver"
   ]
  },
  {
   "cell_type": "code",
   "execution_count": 95,
   "metadata": {},
   "outputs": [],
   "source": [
    "prob = LpProblem(\"UserScheduling\", LpMaximize)\n",
    "\n",
    "vars = []\n",
    "R = []\n",
    "P = []\n",
    "\n",
    "every_channel_allocated_constraint = []\n",
    "\n",
    "for n in data_3.keys():\n",
    "    X_n = []\n",
    "    for idx, row in data_3[n].iterrows():\n",
    "        k = row['k']\n",
    "        m = row['m']\n",
    "        p_kmn = row['p_k,m,n']\n",
    "        r_kmn = row['r_k,m,n']\n",
    "\n",
    "        x = LpVariable(f\"x_{int(k)},{int(m)},{int(n)}\", 0, 1, None)\n",
    "        \n",
    "        X_n.append(x)\n",
    "        vars.append(x)\n",
    "        R.append(r_kmn)\n",
    "        P.append(p_kmn)\n",
    "    \n",
    "    every_channel_allocated_constraint.append(\n",
    "        lpSum(X_n) == 1\n",
    "    )\n",
    "\n",
    "\n"
   ]
  },
  {
   "cell_type": "code",
   "execution_count": 96,
   "metadata": {},
   "outputs": [],
   "source": [
    "objective = lpSum([R[i] * vars[i] for i in range(len(vars))])\n",
    "constraint_power_budget = lpSum([P[i] * vars[i] for i in range(len(vars))])\n",
    "\n",
    "prob += objective, \"objective\"\n",
    "prob += constraint_power_budget <= p, \"power_constraint\"\n",
    "for constraint in every_channel_allocated_constraint:\n",
    "    prob += constraint"
   ]
  },
  {
   "cell_type": "code",
   "execution_count": 97,
   "metadata": {},
   "outputs": [
    {
     "name": "stdout",
     "output_type": "stream",
     "text": [
      "Welcome to the CBC MILP Solver \n",
      "Version: 2.10.3 \n",
      "Build Date: Dec 15 2019 \n",
      "\n",
      "command line - /home/pedro/anaconda3/envs/user-scheduling-in-5g/lib/python3.12/site-packages/pulp/solverdir/cbc/linux/64/cbc /tmp/2c4b9476c0b94301a0242787d5727d52-pulp.mps -max -timeMode elapsed -branch -printingOptions all -solution /tmp/2c4b9476c0b94301a0242787d5727d52-pulp.sol (default strategy 1)\n",
      "At line 2 NAME          MODEL\n",
      "At line 3 ROWS\n",
      "At line 10 COLUMNS\n",
      "At line 35 RHS\n",
      "At line 41 BOUNDS\n",
      "At line 50 ENDATA\n",
      "Problem MODEL has 5 rows, 8 columns and 16 elements\n",
      "Coin0008I MODEL read with 0 errors\n",
      "Option for timeMode changed from cpu to elapsed\n",
      "Presolve 0 (-5) rows, 0 (-8) columns and 0 (-16) elements\n",
      "Empty problem - 0 rows, 0 columns and 0 elements\n",
      "Optimal - objective value 365\n",
      "After Postsolve, objective 365, infeasibilities - dual 191 (4), primal 0 (0)\n",
      "Presolved model was optimal, full model needs cleaning up\n",
      "0  Obj 365 Dual inf 234.9072 (4)\n",
      "4  Obj 365\n",
      "Optimal - objective value 365\n",
      "Optimal objective 365 - 4 iterations time 0.002, Presolve 0.00\n",
      "Option for printingOptions changed from normal to all\n",
      "Total time (CPU seconds):       0.00   (Wallclock seconds):       0.00\n",
      "\n"
     ]
    }
   ],
   "source": [
    "res = prob.solve()"
   ]
  },
  {
   "cell_type": "code",
   "execution_count": 98,
   "metadata": {},
   "outputs": [
    {
     "name": "stdout",
     "output_type": "stream",
     "text": [
      "x_0,1,0  =  1.0\n",
      "x_1,1,3  =  1.0\n",
      "x_2,1,1  =  1.0\n",
      "x_2,1,2  =  1.0\n"
     ]
    }
   ],
   "source": [
    "for v in prob.variables():\n",
    "    if v.varValue == 0:\n",
    "        continue\n",
    "    print(v.name , \" = \", v.varValue)"
   ]
  },
  {
   "cell_type": "code",
   "execution_count": 101,
   "metadata": {},
   "outputs": [
    {
     "data": {
      "text/plain": [
       "{0: [0, 1, 12.0, 98.0, 'x_0,1,0 = 1'],\n",
       " 1: [2, 1, 7.0, 85.0, 'x_2,1,1 = 1'],\n",
       " 2: [2, 1, 27.0, 87.0, 'x_2,1,2 = 1'],\n",
       " 3: [1, 1, 32.0, 95.0, 'x_1,1,3 = 1']}"
      ]
     },
     "execution_count": 101,
     "metadata": {},
     "output_type": "execute_result"
    }
   ],
   "source": [
    "solver.solution.get_solution()"
   ]
  },
  {
   "cell_type": "code",
   "execution_count": 265,
   "metadata": {},
   "outputs": [
    {
     "data": {
      "text/plain": [
       "1637.0"
      ]
     },
     "execution_count": 265,
     "metadata": {},
     "output_type": "execute_result"
    }
   ],
   "source": [
    "prob.objective.value()"
   ]
  },
  {
   "cell_type": "code",
   "execution_count": null,
   "metadata": {},
   "outputs": [],
   "source": []
  }
 ],
 "metadata": {
  "kernelspec": {
   "display_name": "user-scheduling-in-5g",
   "language": "python",
   "name": "python3"
  },
  "language_info": {
   "codemirror_mode": {
    "name": "ipython",
    "version": 3
   },
   "file_extension": ".py",
   "mimetype": "text/x-python",
   "name": "python",
   "nbconvert_exporter": "python",
   "pygments_lexer": "ipython3",
   "version": "3.12.1"
  }
 },
 "nbformat": 4,
 "nbformat_minor": 2
}
